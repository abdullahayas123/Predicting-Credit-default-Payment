{
 "cells": [
  {
   "cell_type": "markdown",
   "metadata": {},
   "source": [
    "# Defining Problem\n",
    "\n",
    "Perusahaan jasa penyedia kredit memiliki masalah dengan pembayaran para nasabahnya. Perusahaan ingin memprediksi nasabah mana yang sekiranya bulan-bulan selanjutnya mengalami telat pembayaran atau tidak yang kemudian akan diputuskan lebih lanjut mengenai kreditnya"
   ]
  },
  {
   "cell_type": "markdown",
   "metadata": {},
   "source": [
    "# Project Goals\n",
    "\n",
    "1. Analisa Setia variable/feature yang mempengaruhi apakah nasabah akan telat bayar/gagal bayar di bulan senjutnya atau tidak\n",
    "2. Membuat model yang mampu memprediksi nasabah yang akan telat bayar/gagal bayar di bulan senjutnya atau tidak"
   ]
  },
  {
   "cell_type": "code",
   "execution_count": 1,
   "metadata": {},
   "outputs": [],
   "source": [
    "import pandas as pd\n",
    "import numpy as np \n",
    "import matplotlib.pyplot as plt \n",
    "import seaborn as sns\n",
    "import warnings\n",
    "warnings.filterwarnings('ignore')"
   ]
  },
  {
   "cell_type": "code",
   "execution_count": 2,
   "metadata": {},
   "outputs": [
    {
     "data": {
      "text/html": [
       "<div>\n",
       "<style scoped>\n",
       "    .dataframe tbody tr th:only-of-type {\n",
       "        vertical-align: middle;\n",
       "    }\n",
       "\n",
       "    .dataframe tbody tr th {\n",
       "        vertical-align: top;\n",
       "    }\n",
       "\n",
       "    .dataframe thead th {\n",
       "        text-align: right;\n",
       "    }\n",
       "</style>\n",
       "<table border=\"1\" class=\"dataframe\">\n",
       "  <thead>\n",
       "    <tr style=\"text-align: right;\">\n",
       "      <th></th>\n",
       "      <th>X1</th>\n",
       "      <th>X2</th>\n",
       "      <th>X3</th>\n",
       "      <th>X4</th>\n",
       "      <th>X5</th>\n",
       "      <th>X6</th>\n",
       "      <th>X7</th>\n",
       "      <th>X8</th>\n",
       "      <th>X9</th>\n",
       "      <th>X10</th>\n",
       "      <th>...</th>\n",
       "      <th>X15</th>\n",
       "      <th>X16</th>\n",
       "      <th>X17</th>\n",
       "      <th>X18</th>\n",
       "      <th>X19</th>\n",
       "      <th>X20</th>\n",
       "      <th>X21</th>\n",
       "      <th>X22</th>\n",
       "      <th>X23</th>\n",
       "      <th>Y</th>\n",
       "    </tr>\n",
       "  </thead>\n",
       "  <tbody>\n",
       "    <tr>\n",
       "      <th>0</th>\n",
       "      <td>20000</td>\n",
       "      <td>2</td>\n",
       "      <td>2</td>\n",
       "      <td>1</td>\n",
       "      <td>24</td>\n",
       "      <td>2</td>\n",
       "      <td>2</td>\n",
       "      <td>-1</td>\n",
       "      <td>-1</td>\n",
       "      <td>-2</td>\n",
       "      <td>...</td>\n",
       "      <td>0</td>\n",
       "      <td>0</td>\n",
       "      <td>0</td>\n",
       "      <td>0</td>\n",
       "      <td>689</td>\n",
       "      <td>0</td>\n",
       "      <td>0</td>\n",
       "      <td>0</td>\n",
       "      <td>0</td>\n",
       "      <td>1</td>\n",
       "    </tr>\n",
       "    <tr>\n",
       "      <th>1</th>\n",
       "      <td>120000</td>\n",
       "      <td>2</td>\n",
       "      <td>2</td>\n",
       "      <td>2</td>\n",
       "      <td>26</td>\n",
       "      <td>-1</td>\n",
       "      <td>2</td>\n",
       "      <td>0</td>\n",
       "      <td>0</td>\n",
       "      <td>0</td>\n",
       "      <td>...</td>\n",
       "      <td>3272</td>\n",
       "      <td>3455</td>\n",
       "      <td>3261</td>\n",
       "      <td>0</td>\n",
       "      <td>1000</td>\n",
       "      <td>1000</td>\n",
       "      <td>1000</td>\n",
       "      <td>0</td>\n",
       "      <td>2000</td>\n",
       "      <td>1</td>\n",
       "    </tr>\n",
       "    <tr>\n",
       "      <th>2</th>\n",
       "      <td>90000</td>\n",
       "      <td>2</td>\n",
       "      <td>2</td>\n",
       "      <td>2</td>\n",
       "      <td>34</td>\n",
       "      <td>0</td>\n",
       "      <td>0</td>\n",
       "      <td>0</td>\n",
       "      <td>0</td>\n",
       "      <td>0</td>\n",
       "      <td>...</td>\n",
       "      <td>14331</td>\n",
       "      <td>14948</td>\n",
       "      <td>15549</td>\n",
       "      <td>1518</td>\n",
       "      <td>1500</td>\n",
       "      <td>1000</td>\n",
       "      <td>1000</td>\n",
       "      <td>1000</td>\n",
       "      <td>5000</td>\n",
       "      <td>0</td>\n",
       "    </tr>\n",
       "    <tr>\n",
       "      <th>3</th>\n",
       "      <td>50000</td>\n",
       "      <td>2</td>\n",
       "      <td>2</td>\n",
       "      <td>1</td>\n",
       "      <td>37</td>\n",
       "      <td>0</td>\n",
       "      <td>0</td>\n",
       "      <td>0</td>\n",
       "      <td>0</td>\n",
       "      <td>0</td>\n",
       "      <td>...</td>\n",
       "      <td>28314</td>\n",
       "      <td>28959</td>\n",
       "      <td>29547</td>\n",
       "      <td>2000</td>\n",
       "      <td>2019</td>\n",
       "      <td>1200</td>\n",
       "      <td>1100</td>\n",
       "      <td>1069</td>\n",
       "      <td>1000</td>\n",
       "      <td>0</td>\n",
       "    </tr>\n",
       "    <tr>\n",
       "      <th>4</th>\n",
       "      <td>50000</td>\n",
       "      <td>1</td>\n",
       "      <td>2</td>\n",
       "      <td>1</td>\n",
       "      <td>57</td>\n",
       "      <td>-1</td>\n",
       "      <td>0</td>\n",
       "      <td>-1</td>\n",
       "      <td>0</td>\n",
       "      <td>0</td>\n",
       "      <td>...</td>\n",
       "      <td>20940</td>\n",
       "      <td>19146</td>\n",
       "      <td>19131</td>\n",
       "      <td>2000</td>\n",
       "      <td>36681</td>\n",
       "      <td>10000</td>\n",
       "      <td>9000</td>\n",
       "      <td>689</td>\n",
       "      <td>679</td>\n",
       "      <td>0</td>\n",
       "    </tr>\n",
       "  </tbody>\n",
       "</table>\n",
       "<p>5 rows × 24 columns</p>\n",
       "</div>"
      ],
      "text/plain": [
       "       X1 X2 X3 X4  X5  X6 X7  X8  X9 X10  ...    X15    X16    X17   X18  \\\n",
       "0   20000  2  2  1  24   2  2  -1  -1  -2  ...      0      0      0     0   \n",
       "1  120000  2  2  2  26  -1  2   0   0   0  ...   3272   3455   3261     0   \n",
       "2   90000  2  2  2  34   0  0   0   0   0  ...  14331  14948  15549  1518   \n",
       "3   50000  2  2  1  37   0  0   0   0   0  ...  28314  28959  29547  2000   \n",
       "4   50000  1  2  1  57  -1  0  -1   0   0  ...  20940  19146  19131  2000   \n",
       "\n",
       "     X19    X20   X21   X22   X23  Y  \n",
       "0    689      0     0     0     0  1  \n",
       "1   1000   1000  1000     0  2000  1  \n",
       "2   1500   1000  1000  1000  5000  0  \n",
       "3   2019   1200  1100  1069  1000  0  \n",
       "4  36681  10000  9000   689   679  0  \n",
       "\n",
       "[5 rows x 24 columns]"
      ]
     },
     "execution_count": 2,
     "metadata": {},
     "output_type": "execute_result"
    }
   ],
   "source": [
    "df = pd.read_excel('CreditCard.xls')\n",
    "df = (df.loc[1:]).drop(columns = 'Unnamed: 0')\n",
    "df = (df.reset_index()).drop(columns='index')\n",
    "df.head()"
   ]
  },
  {
   "cell_type": "markdown",
   "metadata": {},
   "source": [
    "# Deskripsi Variable : \n",
    "\n",
    "- X1 : Jml kredit yg diberikan (dollar taiwan/ NT dollar)\n",
    "- X2 : Gender (1 : Female, 2: Male)\n",
    "- X3 : Education (1 : Graduate School, 2 : University, 3 : Highschool, 4 : Others)\n",
    "- X4 : Status Pernikahan (1 : Menikah, 2 : single, 3 : Others)\n",
    "- X5 : Umur\n",
    "- X6 - X11 : Histori pembayaran sebelumnya\n",
    "    - X6 : histori pembayaran bulan Sept, X7 :histori pembayaran bulan Agustus dst. smpai april.\n",
    "    - Nilainya : -1 (pay dully), 1 (telat 1 bulan bayar), 2 (telat 2 bulan bayar)..... 9 (telat 9 hingga diatas 9 bulan bayarnya)\n",
    "- X12 - X17 : Jumlah bill statement (dollar taiwan/ NT dollar)\n",
    "    - X12 : jmlh bill di bulan Sept, X13 : jml bill di bulan Agus, .... dst. sampai April.\n",
    "- X18 - X23 : Jumlah payment/pembayaran kredit (dollar taiwan/ NT dollar)\n",
    "    - X18 : jml payment di bulan Sept dst. sampai April\n",
    "- __Y : Default payment (1=yes, 0=no)__ ==> Target"
   ]
  },
  {
   "cell_type": "code",
   "execution_count": 3,
   "metadata": {},
   "outputs": [],
   "source": [
    "## Klasifikasi yg kategorikal dan numerikal continues\n",
    "\n",
    "cat = ['X2', 'X3', 'X4', 'X6', 'X7', 'X8', 'X9', 'X10', 'X11', 'Y']\n",
    "num = [i for i in df.columns if i not in cat]"
   ]
  },
  {
   "cell_type": "code",
   "execution_count": 4,
   "metadata": {},
   "outputs": [],
   "source": [
    "## buat dataframe baru untuk deskripsi statistik\n",
    "\n",
    "df_stat = df.copy()\n",
    "df_stat[num] = df_stat[num].astype('int')"
   ]
  },
  {
   "cell_type": "markdown",
   "metadata": {},
   "source": [
    "# Data Description"
   ]
  },
  {
   "cell_type": "code",
   "execution_count": 5,
   "metadata": {},
   "outputs": [
    {
     "data": {
      "text/html": [
       "<div>\n",
       "<style scoped>\n",
       "    .dataframe tbody tr th:only-of-type {\n",
       "        vertical-align: middle;\n",
       "    }\n",
       "\n",
       "    .dataframe tbody tr th {\n",
       "        vertical-align: top;\n",
       "    }\n",
       "\n",
       "    .dataframe thead th {\n",
       "        text-align: right;\n",
       "    }\n",
       "</style>\n",
       "<table border=\"1\" class=\"dataframe\">\n",
       "  <thead>\n",
       "    <tr style=\"text-align: right;\">\n",
       "      <th></th>\n",
       "      <th>Data Features</th>\n",
       "      <th>Data Types</th>\n",
       "      <th>Null</th>\n",
       "      <th>Null Percentage</th>\n",
       "      <th>Unique</th>\n",
       "      <th>Unique Sample</th>\n",
       "    </tr>\n",
       "  </thead>\n",
       "  <tbody>\n",
       "    <tr>\n",
       "      <th>0</th>\n",
       "      <td>X1</td>\n",
       "      <td>object</td>\n",
       "      <td>0</td>\n",
       "      <td>0.0</td>\n",
       "      <td>81</td>\n",
       "      <td>[40000, 350000, 16000]</td>\n",
       "    </tr>\n",
       "    <tr>\n",
       "      <th>1</th>\n",
       "      <td>X2</td>\n",
       "      <td>object</td>\n",
       "      <td>0</td>\n",
       "      <td>0.0</td>\n",
       "      <td>2</td>\n",
       "      <td>[2, 1]</td>\n",
       "    </tr>\n",
       "    <tr>\n",
       "      <th>2</th>\n",
       "      <td>X3</td>\n",
       "      <td>object</td>\n",
       "      <td>0</td>\n",
       "      <td>0.0</td>\n",
       "      <td>7</td>\n",
       "      <td>[1, 4, 0]</td>\n",
       "    </tr>\n",
       "    <tr>\n",
       "      <th>3</th>\n",
       "      <td>X4</td>\n",
       "      <td>object</td>\n",
       "      <td>0</td>\n",
       "      <td>0.0</td>\n",
       "      <td>4</td>\n",
       "      <td>[3, 1, 0]</td>\n",
       "    </tr>\n",
       "    <tr>\n",
       "      <th>4</th>\n",
       "      <td>X5</td>\n",
       "      <td>object</td>\n",
       "      <td>0</td>\n",
       "      <td>0.0</td>\n",
       "      <td>56</td>\n",
       "      <td>[52, 35, 42]</td>\n",
       "    </tr>\n",
       "    <tr>\n",
       "      <th>5</th>\n",
       "      <td>X6</td>\n",
       "      <td>object</td>\n",
       "      <td>0</td>\n",
       "      <td>0.0</td>\n",
       "      <td>11</td>\n",
       "      <td>[4, 6, 1]</td>\n",
       "    </tr>\n",
       "    <tr>\n",
       "      <th>6</th>\n",
       "      <td>X7</td>\n",
       "      <td>object</td>\n",
       "      <td>0</td>\n",
       "      <td>0.0</td>\n",
       "      <td>11</td>\n",
       "      <td>[8, 5, 6]</td>\n",
       "    </tr>\n",
       "    <tr>\n",
       "      <th>7</th>\n",
       "      <td>X8</td>\n",
       "      <td>object</td>\n",
       "      <td>0</td>\n",
       "      <td>0.0</td>\n",
       "      <td>11</td>\n",
       "      <td>[6, 1, 5]</td>\n",
       "    </tr>\n",
       "    <tr>\n",
       "      <th>8</th>\n",
       "      <td>X9</td>\n",
       "      <td>object</td>\n",
       "      <td>0</td>\n",
       "      <td>0.0</td>\n",
       "      <td>11</td>\n",
       "      <td>[7, -2, 3]</td>\n",
       "    </tr>\n",
       "    <tr>\n",
       "      <th>9</th>\n",
       "      <td>X10</td>\n",
       "      <td>object</td>\n",
       "      <td>0</td>\n",
       "      <td>0.0</td>\n",
       "      <td>10</td>\n",
       "      <td>[0, -1, 8]</td>\n",
       "    </tr>\n",
       "    <tr>\n",
       "      <th>10</th>\n",
       "      <td>X11</td>\n",
       "      <td>object</td>\n",
       "      <td>0</td>\n",
       "      <td>0.0</td>\n",
       "      <td>10</td>\n",
       "      <td>[7, 6, -1]</td>\n",
       "    </tr>\n",
       "    <tr>\n",
       "      <th>11</th>\n",
       "      <td>X12</td>\n",
       "      <td>object</td>\n",
       "      <td>0</td>\n",
       "      <td>0.0</td>\n",
       "      <td>22723</td>\n",
       "      <td>[131887, 167272, 18557]</td>\n",
       "    </tr>\n",
       "    <tr>\n",
       "      <th>12</th>\n",
       "      <td>X13</td>\n",
       "      <td>object</td>\n",
       "      <td>0</td>\n",
       "      <td>0.0</td>\n",
       "      <td>22346</td>\n",
       "      <td>[21614, 187206, 43427]</td>\n",
       "    </tr>\n",
       "    <tr>\n",
       "      <th>13</th>\n",
       "      <td>X14</td>\n",
       "      <td>object</td>\n",
       "      <td>0</td>\n",
       "      <td>0.0</td>\n",
       "      <td>22026</td>\n",
       "      <td>[26128, 90634, 43153]</td>\n",
       "    </tr>\n",
       "    <tr>\n",
       "      <th>14</th>\n",
       "      <td>X15</td>\n",
       "      <td>object</td>\n",
       "      <td>0</td>\n",
       "      <td>0.0</td>\n",
       "      <td>21548</td>\n",
       "      <td>[29161, 22320, 160810]</td>\n",
       "    </tr>\n",
       "    <tr>\n",
       "      <th>15</th>\n",
       "      <td>X16</td>\n",
       "      <td>object</td>\n",
       "      <td>0</td>\n",
       "      <td>0.0</td>\n",
       "      <td>21010</td>\n",
       "      <td>[124622, 1815, 204850]</td>\n",
       "    </tr>\n",
       "    <tr>\n",
       "      <th>16</th>\n",
       "      <td>X17</td>\n",
       "      <td>object</td>\n",
       "      <td>0</td>\n",
       "      <td>0.0</td>\n",
       "      <td>20604</td>\n",
       "      <td>[36687, 4440, 105844]</td>\n",
       "    </tr>\n",
       "    <tr>\n",
       "      <th>17</th>\n",
       "      <td>X18</td>\n",
       "      <td>object</td>\n",
       "      <td>0</td>\n",
       "      <td>0.0</td>\n",
       "      <td>7943</td>\n",
       "      <td>[62462, 638, 2701]</td>\n",
       "    </tr>\n",
       "    <tr>\n",
       "      <th>18</th>\n",
       "      <td>X19</td>\n",
       "      <td>object</td>\n",
       "      <td>0</td>\n",
       "      <td>0.0</td>\n",
       "      <td>7899</td>\n",
       "      <td>[2419, 1883, 3040]</td>\n",
       "    </tr>\n",
       "    <tr>\n",
       "      <th>19</th>\n",
       "      <td>X20</td>\n",
       "      <td>object</td>\n",
       "      <td>0</td>\n",
       "      <td>0.0</td>\n",
       "      <td>7518</td>\n",
       "      <td>[11380, 413, 7435]</td>\n",
       "    </tr>\n",
       "    <tr>\n",
       "      <th>20</th>\n",
       "      <td>X21</td>\n",
       "      <td>object</td>\n",
       "      <td>0</td>\n",
       "      <td>0.0</td>\n",
       "      <td>6937</td>\n",
       "      <td>[7106, 818, 4948]</td>\n",
       "    </tr>\n",
       "    <tr>\n",
       "      <th>21</th>\n",
       "      <td>X22</td>\n",
       "      <td>object</td>\n",
       "      <td>0</td>\n",
       "      <td>0.0</td>\n",
       "      <td>6897</td>\n",
       "      <td>[12527, 3201, 1910]</td>\n",
       "    </tr>\n",
       "    <tr>\n",
       "      <th>22</th>\n",
       "      <td>X23</td>\n",
       "      <td>object</td>\n",
       "      <td>0</td>\n",
       "      <td>0.0</td>\n",
       "      <td>6939</td>\n",
       "      <td>[11384, 4411, 31600]</td>\n",
       "    </tr>\n",
       "    <tr>\n",
       "      <th>23</th>\n",
       "      <td>Y</td>\n",
       "      <td>object</td>\n",
       "      <td>0</td>\n",
       "      <td>0.0</td>\n",
       "      <td>2</td>\n",
       "      <td>[1, 0]</td>\n",
       "    </tr>\n",
       "  </tbody>\n",
       "</table>\n",
       "</div>"
      ],
      "text/plain": [
       "   Data Features Data Types  Null  Null Percentage  Unique  \\\n",
       "0             X1     object     0              0.0      81   \n",
       "1             X2     object     0              0.0       2   \n",
       "2             X3     object     0              0.0       7   \n",
       "3             X4     object     0              0.0       4   \n",
       "4             X5     object     0              0.0      56   \n",
       "5             X6     object     0              0.0      11   \n",
       "6             X7     object     0              0.0      11   \n",
       "7             X8     object     0              0.0      11   \n",
       "8             X9     object     0              0.0      11   \n",
       "9            X10     object     0              0.0      10   \n",
       "10           X11     object     0              0.0      10   \n",
       "11           X12     object     0              0.0   22723   \n",
       "12           X13     object     0              0.0   22346   \n",
       "13           X14     object     0              0.0   22026   \n",
       "14           X15     object     0              0.0   21548   \n",
       "15           X16     object     0              0.0   21010   \n",
       "16           X17     object     0              0.0   20604   \n",
       "17           X18     object     0              0.0    7943   \n",
       "18           X19     object     0              0.0    7899   \n",
       "19           X20     object     0              0.0    7518   \n",
       "20           X21     object     0              0.0    6937   \n",
       "21           X22     object     0              0.0    6897   \n",
       "22           X23     object     0              0.0    6939   \n",
       "23             Y     object     0              0.0       2   \n",
       "\n",
       "              Unique Sample  \n",
       "0    [40000, 350000, 16000]  \n",
       "1                    [2, 1]  \n",
       "2                 [1, 4, 0]  \n",
       "3                 [3, 1, 0]  \n",
       "4              [52, 35, 42]  \n",
       "5                 [4, 6, 1]  \n",
       "6                 [8, 5, 6]  \n",
       "7                 [6, 1, 5]  \n",
       "8                [7, -2, 3]  \n",
       "9                [0, -1, 8]  \n",
       "10               [7, 6, -1]  \n",
       "11  [131887, 167272, 18557]  \n",
       "12   [21614, 187206, 43427]  \n",
       "13    [26128, 90634, 43153]  \n",
       "14   [29161, 22320, 160810]  \n",
       "15   [124622, 1815, 204850]  \n",
       "16    [36687, 4440, 105844]  \n",
       "17       [62462, 638, 2701]  \n",
       "18       [2419, 1883, 3040]  \n",
       "19       [11380, 413, 7435]  \n",
       "20        [7106, 818, 4948]  \n",
       "21      [12527, 3201, 1910]  \n",
       "22     [11384, 4411, 31600]  \n",
       "23                   [1, 0]  "
      ]
     },
     "execution_count": 5,
     "metadata": {},
     "output_type": "execute_result"
    }
   ],
   "source": [
    "dfDesc = []\n",
    "for i in df.columns:\n",
    "    if df[i].nunique() > 3 :\n",
    "        bla = df[i].drop_duplicates().sample(3).values\n",
    "    else :\n",
    "        bla = df[i].drop_duplicates().values\n",
    "    \n",
    "    dfDesc.append([\n",
    "        i,\n",
    "        df[i].dtypes,\n",
    "        df[i].isna().sum(),\n",
    "        round((((df[i].isna().sum()) / len(df)) * 100), 2),\n",
    "        df[i].nunique(),\n",
    "        bla\n",
    "    ])\n",
    "    \n",
    "pd.DataFrame(dfDesc, columns=[\n",
    "    \"Data Features\",\n",
    "    \"Data Types\",\n",
    "    \"Null\",\n",
    "    \"Null Percentage\",\n",
    "    \"Unique\",\n",
    "    \"Unique Sample\"\n",
    "])"
   ]
  },
  {
   "cell_type": "markdown",
   "metadata": {},
   "source": [
    "__Insight__ :\n",
    "\n",
    "Tidak ada data null"
   ]
  },
  {
   "cell_type": "markdown",
   "metadata": {},
   "source": [
    "# Stat Desc"
   ]
  },
  {
   "cell_type": "code",
   "execution_count": 6,
   "metadata": {},
   "outputs": [
    {
     "data": {
      "text/html": [
       "<div>\n",
       "<style scoped>\n",
       "    .dataframe tbody tr th:only-of-type {\n",
       "        vertical-align: middle;\n",
       "    }\n",
       "\n",
       "    .dataframe tbody tr th {\n",
       "        vertical-align: top;\n",
       "    }\n",
       "\n",
       "    .dataframe thead th {\n",
       "        text-align: right;\n",
       "    }\n",
       "</style>\n",
       "<table border=\"1\" class=\"dataframe\">\n",
       "  <thead>\n",
       "    <tr style=\"text-align: right;\">\n",
       "      <th></th>\n",
       "      <th>count</th>\n",
       "      <th>mean</th>\n",
       "      <th>std</th>\n",
       "      <th>min</th>\n",
       "      <th>25%</th>\n",
       "      <th>50%</th>\n",
       "      <th>75%</th>\n",
       "      <th>max</th>\n",
       "    </tr>\n",
       "  </thead>\n",
       "  <tbody>\n",
       "    <tr>\n",
       "      <th>X1</th>\n",
       "      <td>30000.0</td>\n",
       "      <td>167484.322667</td>\n",
       "      <td>129747.661567</td>\n",
       "      <td>10000.0</td>\n",
       "      <td>50000.00</td>\n",
       "      <td>140000.0</td>\n",
       "      <td>240000.00</td>\n",
       "      <td>1000000.0</td>\n",
       "    </tr>\n",
       "    <tr>\n",
       "      <th>X5</th>\n",
       "      <td>30000.0</td>\n",
       "      <td>35.485500</td>\n",
       "      <td>9.217904</td>\n",
       "      <td>21.0</td>\n",
       "      <td>28.00</td>\n",
       "      <td>34.0</td>\n",
       "      <td>41.00</td>\n",
       "      <td>79.0</td>\n",
       "    </tr>\n",
       "    <tr>\n",
       "      <th>X12</th>\n",
       "      <td>30000.0</td>\n",
       "      <td>51223.330900</td>\n",
       "      <td>73635.860576</td>\n",
       "      <td>-165580.0</td>\n",
       "      <td>3558.75</td>\n",
       "      <td>22381.5</td>\n",
       "      <td>67091.00</td>\n",
       "      <td>964511.0</td>\n",
       "    </tr>\n",
       "    <tr>\n",
       "      <th>X13</th>\n",
       "      <td>30000.0</td>\n",
       "      <td>49179.075167</td>\n",
       "      <td>71173.768783</td>\n",
       "      <td>-69777.0</td>\n",
       "      <td>2984.75</td>\n",
       "      <td>21200.0</td>\n",
       "      <td>64006.25</td>\n",
       "      <td>983931.0</td>\n",
       "    </tr>\n",
       "    <tr>\n",
       "      <th>X14</th>\n",
       "      <td>30000.0</td>\n",
       "      <td>47013.154800</td>\n",
       "      <td>69349.387427</td>\n",
       "      <td>-157264.0</td>\n",
       "      <td>2666.25</td>\n",
       "      <td>20088.5</td>\n",
       "      <td>60164.75</td>\n",
       "      <td>1664089.0</td>\n",
       "    </tr>\n",
       "    <tr>\n",
       "      <th>X15</th>\n",
       "      <td>30000.0</td>\n",
       "      <td>43262.948967</td>\n",
       "      <td>64332.856134</td>\n",
       "      <td>-170000.0</td>\n",
       "      <td>2326.75</td>\n",
       "      <td>19052.0</td>\n",
       "      <td>54506.00</td>\n",
       "      <td>891586.0</td>\n",
       "    </tr>\n",
       "    <tr>\n",
       "      <th>X16</th>\n",
       "      <td>30000.0</td>\n",
       "      <td>40311.400967</td>\n",
       "      <td>60797.155770</td>\n",
       "      <td>-81334.0</td>\n",
       "      <td>1763.00</td>\n",
       "      <td>18104.5</td>\n",
       "      <td>50190.50</td>\n",
       "      <td>927171.0</td>\n",
       "    </tr>\n",
       "    <tr>\n",
       "      <th>X17</th>\n",
       "      <td>30000.0</td>\n",
       "      <td>38871.760400</td>\n",
       "      <td>59554.107537</td>\n",
       "      <td>-339603.0</td>\n",
       "      <td>1256.00</td>\n",
       "      <td>17071.0</td>\n",
       "      <td>49198.25</td>\n",
       "      <td>961664.0</td>\n",
       "    </tr>\n",
       "    <tr>\n",
       "      <th>X18</th>\n",
       "      <td>30000.0</td>\n",
       "      <td>5663.580500</td>\n",
       "      <td>16563.280354</td>\n",
       "      <td>0.0</td>\n",
       "      <td>1000.00</td>\n",
       "      <td>2100.0</td>\n",
       "      <td>5006.00</td>\n",
       "      <td>873552.0</td>\n",
       "    </tr>\n",
       "    <tr>\n",
       "      <th>X19</th>\n",
       "      <td>30000.0</td>\n",
       "      <td>5921.163500</td>\n",
       "      <td>23040.870402</td>\n",
       "      <td>0.0</td>\n",
       "      <td>833.00</td>\n",
       "      <td>2009.0</td>\n",
       "      <td>5000.00</td>\n",
       "      <td>1684259.0</td>\n",
       "    </tr>\n",
       "    <tr>\n",
       "      <th>X20</th>\n",
       "      <td>30000.0</td>\n",
       "      <td>5225.681500</td>\n",
       "      <td>17606.961470</td>\n",
       "      <td>0.0</td>\n",
       "      <td>390.00</td>\n",
       "      <td>1800.0</td>\n",
       "      <td>4505.00</td>\n",
       "      <td>896040.0</td>\n",
       "    </tr>\n",
       "    <tr>\n",
       "      <th>X21</th>\n",
       "      <td>30000.0</td>\n",
       "      <td>4826.076867</td>\n",
       "      <td>15666.159744</td>\n",
       "      <td>0.0</td>\n",
       "      <td>296.00</td>\n",
       "      <td>1500.0</td>\n",
       "      <td>4013.25</td>\n",
       "      <td>621000.0</td>\n",
       "    </tr>\n",
       "    <tr>\n",
       "      <th>X22</th>\n",
       "      <td>30000.0</td>\n",
       "      <td>4799.387633</td>\n",
       "      <td>15278.305679</td>\n",
       "      <td>0.0</td>\n",
       "      <td>252.50</td>\n",
       "      <td>1500.0</td>\n",
       "      <td>4031.50</td>\n",
       "      <td>426529.0</td>\n",
       "    </tr>\n",
       "    <tr>\n",
       "      <th>X23</th>\n",
       "      <td>30000.0</td>\n",
       "      <td>5215.502567</td>\n",
       "      <td>17777.465775</td>\n",
       "      <td>0.0</td>\n",
       "      <td>117.75</td>\n",
       "      <td>1500.0</td>\n",
       "      <td>4000.00</td>\n",
       "      <td>528666.0</td>\n",
       "    </tr>\n",
       "  </tbody>\n",
       "</table>\n",
       "</div>"
      ],
      "text/plain": [
       "       count           mean            std       min       25%       50%  \\\n",
       "X1   30000.0  167484.322667  129747.661567   10000.0  50000.00  140000.0   \n",
       "X5   30000.0      35.485500       9.217904      21.0     28.00      34.0   \n",
       "X12  30000.0   51223.330900   73635.860576 -165580.0   3558.75   22381.5   \n",
       "X13  30000.0   49179.075167   71173.768783  -69777.0   2984.75   21200.0   \n",
       "X14  30000.0   47013.154800   69349.387427 -157264.0   2666.25   20088.5   \n",
       "X15  30000.0   43262.948967   64332.856134 -170000.0   2326.75   19052.0   \n",
       "X16  30000.0   40311.400967   60797.155770  -81334.0   1763.00   18104.5   \n",
       "X17  30000.0   38871.760400   59554.107537 -339603.0   1256.00   17071.0   \n",
       "X18  30000.0    5663.580500   16563.280354       0.0   1000.00    2100.0   \n",
       "X19  30000.0    5921.163500   23040.870402       0.0    833.00    2009.0   \n",
       "X20  30000.0    5225.681500   17606.961470       0.0    390.00    1800.0   \n",
       "X21  30000.0    4826.076867   15666.159744       0.0    296.00    1500.0   \n",
       "X22  30000.0    4799.387633   15278.305679       0.0    252.50    1500.0   \n",
       "X23  30000.0    5215.502567   17777.465775       0.0    117.75    1500.0   \n",
       "\n",
       "           75%        max  \n",
       "X1   240000.00  1000000.0  \n",
       "X5       41.00       79.0  \n",
       "X12   67091.00   964511.0  \n",
       "X13   64006.25   983931.0  \n",
       "X14   60164.75  1664089.0  \n",
       "X15   54506.00   891586.0  \n",
       "X16   50190.50   927171.0  \n",
       "X17   49198.25   961664.0  \n",
       "X18    5006.00   873552.0  \n",
       "X19    5000.00  1684259.0  \n",
       "X20    4505.00   896040.0  \n",
       "X21    4013.25   621000.0  \n",
       "X22    4031.50   426529.0  \n",
       "X23    4000.00   528666.0  "
      ]
     },
     "execution_count": 6,
     "metadata": {},
     "output_type": "execute_result"
    }
   ],
   "source": [
    "df_stat.describe().T"
   ]
  },
  {
   "cell_type": "code",
   "execution_count": 7,
   "metadata": {},
   "outputs": [
    {
     "data": {
      "text/html": [
       "<div>\n",
       "<style scoped>\n",
       "    .dataframe tbody tr th:only-of-type {\n",
       "        vertical-align: middle;\n",
       "    }\n",
       "\n",
       "    .dataframe tbody tr th {\n",
       "        vertical-align: top;\n",
       "    }\n",
       "\n",
       "    .dataframe thead th {\n",
       "        text-align: right;\n",
       "    }\n",
       "</style>\n",
       "<table border=\"1\" class=\"dataframe\">\n",
       "  <thead>\n",
       "    <tr style=\"text-align: right;\">\n",
       "      <th></th>\n",
       "      <th>X2</th>\n",
       "      <th>X3</th>\n",
       "      <th>X4</th>\n",
       "      <th>X6</th>\n",
       "      <th>X7</th>\n",
       "      <th>X8</th>\n",
       "      <th>X9</th>\n",
       "      <th>X10</th>\n",
       "      <th>X11</th>\n",
       "      <th>Y</th>\n",
       "    </tr>\n",
       "  </thead>\n",
       "  <tbody>\n",
       "    <tr>\n",
       "      <th>count</th>\n",
       "      <td>30000</td>\n",
       "      <td>30000</td>\n",
       "      <td>30000</td>\n",
       "      <td>30000</td>\n",
       "      <td>30000</td>\n",
       "      <td>30000</td>\n",
       "      <td>30000</td>\n",
       "      <td>30000</td>\n",
       "      <td>30000</td>\n",
       "      <td>30000</td>\n",
       "    </tr>\n",
       "    <tr>\n",
       "      <th>unique</th>\n",
       "      <td>2</td>\n",
       "      <td>7</td>\n",
       "      <td>4</td>\n",
       "      <td>11</td>\n",
       "      <td>11</td>\n",
       "      <td>11</td>\n",
       "      <td>11</td>\n",
       "      <td>10</td>\n",
       "      <td>10</td>\n",
       "      <td>2</td>\n",
       "    </tr>\n",
       "    <tr>\n",
       "      <th>top</th>\n",
       "      <td>2</td>\n",
       "      <td>2</td>\n",
       "      <td>2</td>\n",
       "      <td>0</td>\n",
       "      <td>0</td>\n",
       "      <td>0</td>\n",
       "      <td>0</td>\n",
       "      <td>0</td>\n",
       "      <td>0</td>\n",
       "      <td>0</td>\n",
       "    </tr>\n",
       "    <tr>\n",
       "      <th>freq</th>\n",
       "      <td>18112</td>\n",
       "      <td>14030</td>\n",
       "      <td>15964</td>\n",
       "      <td>14737</td>\n",
       "      <td>15730</td>\n",
       "      <td>15764</td>\n",
       "      <td>16455</td>\n",
       "      <td>16947</td>\n",
       "      <td>16286</td>\n",
       "      <td>23364</td>\n",
       "    </tr>\n",
       "  </tbody>\n",
       "</table>\n",
       "</div>"
      ],
      "text/plain": [
       "           X2     X3     X4     X6     X7     X8     X9    X10    X11      Y\n",
       "count   30000  30000  30000  30000  30000  30000  30000  30000  30000  30000\n",
       "unique      2      7      4     11     11     11     11     10     10      2\n",
       "top         2      2      2      0      0      0      0      0      0      0\n",
       "freq    18112  14030  15964  14737  15730  15764  16455  16947  16286  23364"
      ]
     },
     "execution_count": 7,
     "metadata": {},
     "output_type": "execute_result"
    }
   ],
   "source": [
    "df_stat.describe(include='O')"
   ]
  },
  {
   "cell_type": "markdown",
   "metadata": {},
   "source": [
    "# Checking Outliers"
   ]
  },
  {
   "cell_type": "code",
   "execution_count": 8,
   "metadata": {},
   "outputs": [
    {
     "data": {
      "text/html": [
       "<div>\n",
       "<style scoped>\n",
       "    .dataframe tbody tr th:only-of-type {\n",
       "        vertical-align: middle;\n",
       "    }\n",
       "\n",
       "    .dataframe tbody tr th {\n",
       "        vertical-align: top;\n",
       "    }\n",
       "\n",
       "    .dataframe thead th {\n",
       "        text-align: right;\n",
       "    }\n",
       "</style>\n",
       "<table border=\"1\" class=\"dataframe\">\n",
       "  <thead>\n",
       "    <tr style=\"text-align: right;\">\n",
       "      <th></th>\n",
       "      <th>Data Features</th>\n",
       "      <th>Jumlah Outliers</th>\n",
       "      <th>Upper Fence</th>\n",
       "      <th>Lower Fence</th>\n",
       "    </tr>\n",
       "  </thead>\n",
       "  <tbody>\n",
       "    <tr>\n",
       "      <th>0</th>\n",
       "      <td>X1</td>\n",
       "      <td>167</td>\n",
       "      <td>525000.000</td>\n",
       "      <td>-235000.000</td>\n",
       "    </tr>\n",
       "    <tr>\n",
       "      <th>1</th>\n",
       "      <td>X5</td>\n",
       "      <td>272</td>\n",
       "      <td>60.500</td>\n",
       "      <td>8.500</td>\n",
       "    </tr>\n",
       "    <tr>\n",
       "      <th>2</th>\n",
       "      <td>X12</td>\n",
       "      <td>2400</td>\n",
       "      <td>162389.375</td>\n",
       "      <td>-91739.625</td>\n",
       "    </tr>\n",
       "    <tr>\n",
       "      <th>3</th>\n",
       "      <td>X13</td>\n",
       "      <td>2395</td>\n",
       "      <td>155538.500</td>\n",
       "      <td>-88547.500</td>\n",
       "    </tr>\n",
       "    <tr>\n",
       "      <th>4</th>\n",
       "      <td>X14</td>\n",
       "      <td>2469</td>\n",
       "      <td>146412.500</td>\n",
       "      <td>-83581.500</td>\n",
       "    </tr>\n",
       "    <tr>\n",
       "      <th>5</th>\n",
       "      <td>X15</td>\n",
       "      <td>2622</td>\n",
       "      <td>132774.875</td>\n",
       "      <td>-75942.125</td>\n",
       "    </tr>\n",
       "    <tr>\n",
       "      <th>6</th>\n",
       "      <td>X16</td>\n",
       "      <td>2725</td>\n",
       "      <td>122831.750</td>\n",
       "      <td>-70878.250</td>\n",
       "    </tr>\n",
       "    <tr>\n",
       "      <th>7</th>\n",
       "      <td>X17</td>\n",
       "      <td>2693</td>\n",
       "      <td>121111.625</td>\n",
       "      <td>-70657.375</td>\n",
       "    </tr>\n",
       "    <tr>\n",
       "      <th>8</th>\n",
       "      <td>X18</td>\n",
       "      <td>2745</td>\n",
       "      <td>11015.000</td>\n",
       "      <td>-5009.000</td>\n",
       "    </tr>\n",
       "    <tr>\n",
       "      <th>9</th>\n",
       "      <td>X19</td>\n",
       "      <td>2714</td>\n",
       "      <td>11250.500</td>\n",
       "      <td>-5417.500</td>\n",
       "    </tr>\n",
       "    <tr>\n",
       "      <th>10</th>\n",
       "      <td>X20</td>\n",
       "      <td>2598</td>\n",
       "      <td>10677.500</td>\n",
       "      <td>-5782.500</td>\n",
       "    </tr>\n",
       "    <tr>\n",
       "      <th>11</th>\n",
       "      <td>X21</td>\n",
       "      <td>2994</td>\n",
       "      <td>9589.125</td>\n",
       "      <td>-5279.875</td>\n",
       "    </tr>\n",
       "    <tr>\n",
       "      <th>12</th>\n",
       "      <td>X22</td>\n",
       "      <td>2945</td>\n",
       "      <td>9700.000</td>\n",
       "      <td>-5416.000</td>\n",
       "    </tr>\n",
       "    <tr>\n",
       "      <th>13</th>\n",
       "      <td>X23</td>\n",
       "      <td>2958</td>\n",
       "      <td>9823.375</td>\n",
       "      <td>-5705.625</td>\n",
       "    </tr>\n",
       "  </tbody>\n",
       "</table>\n",
       "</div>"
      ],
      "text/plain": [
       "   Data Features  Jumlah Outliers  Upper Fence  Lower Fence\n",
       "0             X1              167   525000.000  -235000.000\n",
       "1             X5              272       60.500        8.500\n",
       "2            X12             2400   162389.375   -91739.625\n",
       "3            X13             2395   155538.500   -88547.500\n",
       "4            X14             2469   146412.500   -83581.500\n",
       "5            X15             2622   132774.875   -75942.125\n",
       "6            X16             2725   122831.750   -70878.250\n",
       "7            X17             2693   121111.625   -70657.375\n",
       "8            X18             2745    11015.000    -5009.000\n",
       "9            X19             2714    11250.500    -5417.500\n",
       "10           X20             2598    10677.500    -5782.500\n",
       "11           X21             2994     9589.125    -5279.875\n",
       "12           X22             2945     9700.000    -5416.000\n",
       "13           X23             2958     9823.375    -5705.625"
      ]
     },
     "execution_count": 8,
     "metadata": {},
     "output_type": "execute_result"
    }
   ],
   "source": [
    "Desc_outliers = []\n",
    "\n",
    "for i in df_stat.describe().columns:\n",
    "    Q1 = df_stat.describe()[i]['25%']\n",
    "    Q3 = df_stat.describe()[i]['75%']\n",
    "    IQR = Q3 - Q1\n",
    "    upper_fence = Q3 + (1.5*IQR)\n",
    "    lower_fence = Q1 - (1.5*IQR)\n",
    "    hitung = 0\n",
    "    \n",
    "    for j in df[i]:\n",
    "        if (j < lower_fence) | (j > upper_fence) :\n",
    "            hitung+=1\n",
    "    Desc_outliers.append([\n",
    "        i,\n",
    "        hitung,\n",
    "        upper_fence,\n",
    "        lower_fence\n",
    "    ])\n",
    "\n",
    "out = pd.DataFrame(Desc_outliers, columns=[\n",
    "    \"Data Features\",\n",
    "    \"Jumlah Outliers\",\n",
    "    \"Upper Fence\",\n",
    "    \"Lower Fence\"\n",
    "])\n",
    "out"
   ]
  },
  {
   "cell_type": "code",
   "execution_count": 9,
   "metadata": {},
   "outputs": [
    {
     "data": {
      "image/png": "[encoded data removed]",
      "text/plain": [
       "<Figure size 1440x6480 with 14 Axes>"
      ]
     },
     "metadata": {
      "needs_background": "light"
     },
     "output_type": "display_data"
    }
   ],
   "source": [
    "plt.figure(figsize=(20,90))\n",
    "tes = 1\n",
    "\n",
    "for i in df_stat.describe().columns:\n",
    "    plt.subplot(14, 1, tes)\n",
    "    sns.boxplot(x=df[i])\n",
    "    plt.title('Boxplot ' + i)\n",
    "    tes += 1"
   ]
  },
  {
   "cell_type": "markdown",
   "metadata": {},
   "source": [
    "__Insight__ :\n",
    "\n",
    "Dapat dilihat pada boxplot untuk masing-masing feature bertipe numerical continues memiliki cukup banyak outliers. dalam hal ini tidak dilakukan handling / drop data outliers untuk melihat data secara komperhensif"
   ]
  },
  {
   "cell_type": "markdown",
   "metadata": {},
   "source": [
    "# EXPLANATORY DATA ANALYSIS\n",
    "\n",
    "melakukan 2 tipe analisis yaitu Univariate dan Multi Variate"
   ]
  },
  {
   "cell_type": "markdown",
   "metadata": {},
   "source": [
    "## Univariate"
   ]
  },
  {
   "cell_type": "code",
   "execution_count": 10,
   "metadata": {},
   "outputs": [
    {
     "data": {
      "text/plain": [
       "14"
      ]
     },
     "execution_count": 10,
     "metadata": {},
     "output_type": "execute_result"
    }
   ],
   "source": [
    "len(num)"
   ]
  },
  {
   "cell_type": "code",
   "execution_count": 11,
   "metadata": {},
   "outputs": [
    {
     "data": {
      "image/png": "[encoded data removed]",
      "text/plain": [
       "<Figure size 1440x2880 with 14 Axes>"
      ]
     },
     "metadata": {
      "needs_background": "light"
     },
     "output_type": "display_data"
    }
   ],
   "source": [
    "# plotting numerical continues features in histogram\n",
    "\n",
    "plt.figure(figsize=(20,40))\n",
    "\n",
    "for i in num:\n",
    "    plt.subplot(7,2,(num.index(i))+1)\n",
    "    plt.hist(df[i])\n",
    "    plt.title('Grafik sebaran '+ i)"
   ]
  },
  {
   "cell_type": "markdown",
   "metadata": {},
   "source": [
    "__Insight__ :\n",
    "\n",
    "- Semua data skew positif dan tidak ada yg terdistribusi normal (untuk data numerical continues)\n",
    "- Umur didominasi dari rentang 21 - 40 tahun"
   ]
  },
  {
   "cell_type": "code",
   "execution_count": 12,
   "metadata": {},
   "outputs": [],
   "source": [
    "# def function for table univariate categorical\n",
    "\n",
    "def tab_cat (x):\n",
    "    table = pd.crosstab(index = df[x], columns = 'Jumlah')\n",
    "    return table"
   ]
  },
  {
   "cell_type": "code",
   "execution_count": 13,
   "metadata": {},
   "outputs": [
    {
     "data": {
      "text/html": [
       "<div>\n",
       "<style scoped>\n",
       "    .dataframe tbody tr th:only-of-type {\n",
       "        vertical-align: middle;\n",
       "    }\n",
       "\n",
       "    .dataframe tbody tr th {\n",
       "        vertical-align: top;\n",
       "    }\n",
       "\n",
       "    .dataframe thead th {\n",
       "        text-align: right;\n",
       "    }\n",
       "</style>\n",
       "<table border=\"1\" class=\"dataframe\">\n",
       "  <thead>\n",
       "    <tr style=\"text-align: right;\">\n",
       "      <th>col_0</th>\n",
       "      <th>Jumlah</th>\n",
       "    </tr>\n",
       "    <tr>\n",
       "      <th>X2</th>\n",
       "      <th></th>\n",
       "    </tr>\n",
       "  </thead>\n",
       "  <tbody>\n",
       "    <tr>\n",
       "      <th>1</th>\n",
       "      <td>11888</td>\n",
       "    </tr>\n",
       "    <tr>\n",
       "      <th>2</th>\n",
       "      <td>18112</td>\n",
       "    </tr>\n",
       "  </tbody>\n",
       "</table>\n",
       "</div>"
      ],
      "text/plain": [
       "col_0  Jumlah\n",
       "X2           \n",
       "1       11888\n",
       "2       18112"
      ]
     },
     "execution_count": 13,
     "metadata": {},
     "output_type": "execute_result"
    }
   ],
   "source": [
    "tab_cat('X2')"
   ]
  },
  {
   "cell_type": "code",
   "execution_count": 14,
   "metadata": {},
   "outputs": [
    {
     "data": {
      "image/png": "[encoded data removed]",
      "text/plain": [
       "<Figure size 1440x2880 with 10 Axes>"
      ]
     },
     "metadata": {
      "needs_background": "light"
     },
     "output_type": "display_data"
    }
   ],
   "source": [
    "# plotting distribution of categorical features in barplot\n",
    "\n",
    "plt.figure(figsize=(20,40))\n",
    "\n",
    "tes = 1\n",
    "for i in cat:\n",
    "    plt.subplot(5,2,tes)\n",
    "    table_cat = pd.crosstab(index = df[i], columns = 'Jumlah')\n",
    "    table_cat =  table_cat.reset_index()\n",
    "    table_cat[i] = table_cat[i].astype('str')\n",
    "    plt.bar(table_cat[i], table_cat['Jumlah'])\n",
    "    plt.title('Grafik sebaran '+ i)\n",
    "    tes +=1"
   ]
  },
  {
   "cell_type": "markdown",
   "metadata": {},
   "source": [
    "__Insight__ :\n",
    "\n",
    "1. Hanya X2 dan Y yang memilki dua Value.\n",
    "2. Y (target) memiliki data imbalance (0 dan 1 berbeda jauh)\n",
    "3. Status pernikahan didominasi oleh yang single/belum menikah\n",
    "4. X6 - X11 didominasi oleh nilai 0 yang artinya banyak yang bayarnya tidak telat"
   ]
  },
  {
   "cell_type": "markdown",
   "metadata": {},
   "source": [
    "## Multivariate\n",
    "\n",
    "1. Melihat hubungan kolom Numerical continues dengan kolom target\n",
    "2. Melihat hubungan kolom Categorical dengan kolom target"
   ]
  },
  {
   "cell_type": "markdown",
   "metadata": {},
   "source": [
    "__Numerikal continues - Y (default payment)__"
   ]
  },
  {
   "cell_type": "code",
   "execution_count": 15,
   "metadata": {},
   "outputs": [],
   "source": [
    "# def fucntion for table Y (default payment) in response to Numerical features\n",
    "\n",
    "def table_num_y (x):\n",
    "    tabel = pd.pivot_table(df_stat, values=x, index='Y', aggfunc=np.mean).round(2)\n",
    "    tabel.rename(columns={x:'Rata-rata '+x + ' di masing2 Default Payment'}, inplace=True)\n",
    "    return tabel"
   ]
  },
  {
   "cell_type": "code",
   "execution_count": 16,
   "metadata": {},
   "outputs": [
    {
     "data": {
      "text/html": [
       "<div>\n",
       "<style scoped>\n",
       "    .dataframe tbody tr th:only-of-type {\n",
       "        vertical-align: middle;\n",
       "    }\n",
       "\n",
       "    .dataframe tbody tr th {\n",
       "        vertical-align: top;\n",
       "    }\n",
       "\n",
       "    .dataframe thead th {\n",
       "        text-align: right;\n",
       "    }\n",
       "</style>\n",
       "<table border=\"1\" class=\"dataframe\">\n",
       "  <thead>\n",
       "    <tr style=\"text-align: right;\">\n",
       "      <th></th>\n",
       "      <th>Rata-rata X5 di masing2 Default Payment</th>\n",
       "    </tr>\n",
       "    <tr>\n",
       "      <th>Y</th>\n",
       "      <th></th>\n",
       "    </tr>\n",
       "  </thead>\n",
       "  <tbody>\n",
       "    <tr>\n",
       "      <th>0</th>\n",
       "      <td>35.42</td>\n",
       "    </tr>\n",
       "    <tr>\n",
       "      <th>1</th>\n",
       "      <td>35.73</td>\n",
       "    </tr>\n",
       "  </tbody>\n",
       "</table>\n",
       "</div>"
      ],
      "text/plain": [
       "   Rata-rata X5 di masing2 Default Payment\n",
       "Y                                         \n",
       "0                                    35.42\n",
       "1                                    35.73"
      ]
     },
     "execution_count": 16,
     "metadata": {},
     "output_type": "execute_result"
    }
   ],
   "source": [
    "table_num_y(num[1])"
   ]
  },
  {
   "cell_type": "code",
   "execution_count": 17,
   "metadata": {},
   "outputs": [
    {
     "data": {
      "image/png": "[encoded data removed]",
      "text/plain": [
       "<Figure size 1440x2880 with 14 Axes>"
      ]
     },
     "metadata": {
      "needs_background": "light"
     },
     "output_type": "display_data"
    }
   ],
   "source": [
    "plt.figure(figsize=(20,40))\n",
    "\n",
    "for i in num:\n",
    "    bla = pd.pivot_table(df_stat, values=i, index='Y', aggfunc=np.mean).round(2)\n",
    "    bla = bla.reset_index()\n",
    "    bla['Y'] = bla['Y'].astype('str')\n",
    "    plt.subplot(7,2,(num.index(i) + 1))\n",
    "    plt.bar(bla['Y'], bla[i])\n",
    "    plt.title(\"Grafik Rata-rata \" + i + \" di tiap Default Payment\")"
   ]
  },
  {
   "cell_type": "markdown",
   "metadata": {},
   "source": [
    "__Insight__ :\n",
    "\n",
    "1. X5, X12 - X17 memiliki nilai rata2 yang tidak bebrbeda signikan untuk masing2 Default Paymentnya, yang lainnya memiliki perbedaan yang cukup signifikan"
   ]
  },
  {
   "cell_type": "markdown",
   "metadata": {},
   "source": [
    "__Categorical - Y (default payment)__"
   ]
  },
  {
   "cell_type": "code",
   "execution_count": 18,
   "metadata": {},
   "outputs": [],
   "source": [
    "# def fucntion for table Y (default payment) in response to Categorical features\n",
    "\n",
    "def table_cat_y (x):\n",
    "    table = pd.crosstab(index=[df_stat['Y'], df_stat[x]], columns='Jumlah')\n",
    "    \n",
    "    persen = []\n",
    "    if x == 'X3':\n",
    "        for i in (table.reset_index()['Y']).unique():\n",
    "            if i == 0 :\n",
    "                for j in (table.reset_index()[x]).unique():\n",
    "                    persen.append(\n",
    "                        round((table.loc[i,j][0]/(table.loc[i]).sum()[0])*100, 2)\n",
    "                    )\n",
    "            elif i == 1 :\n",
    "                for k in range(1,7):\n",
    "                    persen.append(\n",
    "                        round((table.loc[i,k][0]/(table.loc[i]).sum()[0])*100, 2)\n",
    "                    )\n",
    "                    \n",
    "    elif x == 'X7':\n",
    "        for l in (table.reset_index()['Y']).unique():\n",
    "            if l == 0 :\n",
    "                for m in (table.reset_index()[x]).unique():\n",
    "                    persen.append(\n",
    "                        round((table.loc[l,m][0]/(table.loc[l]).sum()[0])*100, 2)\n",
    "                    )\n",
    "            elif n == 1 :\n",
    "                for n in range(-2,8):\n",
    "                    persen.append(\n",
    "                        round((table.loc[l,n][0]/(table.loc[l]).sum()[0])*100, 2)\n",
    "                    )\n",
    "                    \n",
    "    elif (x == 'X10') | (x == 'X11'):\n",
    "        for o in (table.reset_index()['Y']).unique():\n",
    "            if o == 0 :\n",
    "                for p in [-2, -1, 0, 2, 3, 4, 5, 6, 7]:\n",
    "                    persen.append(\n",
    "                        round((table.loc[o,p][0]/(table.loc[o]).sum()[0])*100, 2)\n",
    "                    )\n",
    "            elif o == 1 :\n",
    "                for q in [-2, -1, 0, 2, 3, 4, 5, 6, 7, 8]:\n",
    "                    persen.append(\n",
    "                        round((table.loc[o,q][0]/(table.loc[o]).sum()[0])*100, 2)\n",
    "                    )                \n",
    "                    \n",
    "    else :\n",
    "        for a in (table.reset_index()['Y']).unique():\n",
    "            for b in (table.reset_index()[x]).unique():\n",
    "                persen.append(\n",
    "                    round((table.loc[a,b][0]/(table.loc[a]).sum()[0])*100, 2)\n",
    "                )\n",
    "\n",
    "    table['Persentase tiap Y(%)'] = persen\n",
    "    return table"
   ]
  },
  {
   "cell_type": "code",
   "execution_count": 19,
   "metadata": {},
   "outputs": [
    {
     "data": {
      "text/html": [
       "<div>\n",
       "<style scoped>\n",
       "    .dataframe tbody tr th:only-of-type {\n",
       "        vertical-align: middle;\n",
       "    }\n",
       "\n",
       "    .dataframe tbody tr th {\n",
       "        vertical-align: top;\n",
       "    }\n",
       "\n",
       "    .dataframe thead th {\n",
       "        text-align: right;\n",
       "    }\n",
       "</style>\n",
       "<table border=\"1\" class=\"dataframe\">\n",
       "  <thead>\n",
       "    <tr style=\"text-align: right;\">\n",
       "      <th></th>\n",
       "      <th>col_0</th>\n",
       "      <th>Jumlah</th>\n",
       "      <th>Persentase tiap Y(%)</th>\n",
       "    </tr>\n",
       "    <tr>\n",
       "      <th>Y</th>\n",
       "      <th>X3</th>\n",
       "      <th></th>\n",
       "      <th></th>\n",
       "    </tr>\n",
       "  </thead>\n",
       "  <tbody>\n",
       "    <tr>\n",
       "      <th rowspan=\"7\" valign=\"top\">0</th>\n",
       "      <th>0</th>\n",
       "      <td>14</td>\n",
       "      <td>0.06</td>\n",
       "    </tr>\n",
       "    <tr>\n",
       "      <th>1</th>\n",
       "      <td>8549</td>\n",
       "      <td>36.59</td>\n",
       "    </tr>\n",
       "    <tr>\n",
       "      <th>2</th>\n",
       "      <td>10700</td>\n",
       "      <td>45.80</td>\n",
       "    </tr>\n",
       "    <tr>\n",
       "      <th>3</th>\n",
       "      <td>3680</td>\n",
       "      <td>15.75</td>\n",
       "    </tr>\n",
       "    <tr>\n",
       "      <th>4</th>\n",
       "      <td>116</td>\n",
       "      <td>0.50</td>\n",
       "    </tr>\n",
       "    <tr>\n",
       "      <th>5</th>\n",
       "      <td>262</td>\n",
       "      <td>1.12</td>\n",
       "    </tr>\n",
       "    <tr>\n",
       "      <th>6</th>\n",
       "      <td>43</td>\n",
       "      <td>0.18</td>\n",
       "    </tr>\n",
       "    <tr>\n",
       "      <th rowspan=\"6\" valign=\"top\">1</th>\n",
       "      <th>1</th>\n",
       "      <td>2036</td>\n",
       "      <td>30.68</td>\n",
       "    </tr>\n",
       "    <tr>\n",
       "      <th>2</th>\n",
       "      <td>3330</td>\n",
       "      <td>50.18</td>\n",
       "    </tr>\n",
       "    <tr>\n",
       "      <th>3</th>\n",
       "      <td>1237</td>\n",
       "      <td>18.64</td>\n",
       "    </tr>\n",
       "    <tr>\n",
       "      <th>4</th>\n",
       "      <td>7</td>\n",
       "      <td>0.11</td>\n",
       "    </tr>\n",
       "    <tr>\n",
       "      <th>5</th>\n",
       "      <td>18</td>\n",
       "      <td>0.27</td>\n",
       "    </tr>\n",
       "    <tr>\n",
       "      <th>6</th>\n",
       "      <td>8</td>\n",
       "      <td>0.12</td>\n",
       "    </tr>\n",
       "  </tbody>\n",
       "</table>\n",
       "</div>"
      ],
      "text/plain": [
       "col_0  Jumlah  Persentase tiap Y(%)\n",
       "Y X3                               \n",
       "0 0        14                  0.06\n",
       "  1      8549                 36.59\n",
       "  2     10700                 45.80\n",
       "  3      3680                 15.75\n",
       "  4       116                  0.50\n",
       "  5       262                  1.12\n",
       "  6        43                  0.18\n",
       "1 1      2036                 30.68\n",
       "  2      3330                 50.18\n",
       "  3      1237                 18.64\n",
       "  4         7                  0.11\n",
       "  5        18                  0.27\n",
       "  6         8                  0.12"
      ]
     },
     "execution_count": 19,
     "metadata": {},
     "output_type": "execute_result"
    }
   ],
   "source": [
    "table_cat_y(cat[1])"
   ]
  },
  {
   "cell_type": "code",
   "execution_count": 20,
   "metadata": {},
   "outputs": [
    {
     "data": {
      "text/plain": [
       "10"
      ]
     },
     "execution_count": 20,
     "metadata": {},
     "output_type": "execute_result"
    }
   ],
   "source": [
    "len(cat)"
   ]
  },
  {
   "cell_type": "code",
   "execution_count": 21,
   "metadata": {},
   "outputs": [
    {
     "data": {
      "image/png": "[encoded data removed]",
      "text/plain": [
       "<Figure size 1440x2880 with 10 Axes>"
      ]
     },
     "metadata": {
      "needs_background": "light"
     },
     "output_type": "display_data"
    }
   ],
   "source": [
    "fig, axes = plt.subplots(5, 2, figsize=(20, 40))\n",
    "for i in cat:\n",
    "    if i != 'Y' : \n",
    "        bla2 = pd.crosstab(index=[df_stat['Y'], df_stat[i]], columns='Jumlah')\n",
    "        bla2 = bla2.reset_index()\n",
    "\n",
    "        if cat.index(i) < 2:\n",
    "            sns.barplot(ax = axes[0,cat.index(i)], x='Y', y='Jumlah', data = bla2, hue=i)\n",
    "            axes[0,(cat.index(i))].set_title('Jumlah masing2 ' + i + ' di tiap Ynya')\n",
    "        elif 2 <= cat.index(i) < 4:\n",
    "            sns.barplot(ax = axes[1,(cat.index(i) - 2)], x='Y', y='Jumlah', data = bla2, hue=i)\n",
    "            axes[1,(cat.index(i)-2)].set_title('Jumlah masing2 ' + i + ' di tiap Ynya')\n",
    "        elif 4 <= cat.index(i) < 6:\n",
    "            sns.barplot(ax = axes[2,(cat.index(i) - 4)], x='Y', y='Jumlah', data = bla2, hue=i)\n",
    "            axes[2,(cat.index(i)-4)].set_title('Jumlah masing2 ' + i + ' di tiap Ynya')\n",
    "        elif 6 <= cat.index(i) < 8:\n",
    "            sns.barplot(ax = axes[3,(cat.index(i) - 6)], x='Y', y='Jumlah', data = bla2, hue=i)\n",
    "            axes[3,(cat.index(i)-6)].set_title('Jumlah masing2 ' + i + ' di tiap Ynya')\n",
    "        elif 8 <= cat.index(i) < 9:\n",
    "            sns.barplot(ax = axes[4,(cat.index(i) - 8)], x='Y', y='Jumlah', data = bla2, hue=i)\n",
    "            axes[4,(cat.index(i)-8)].set_title('Jumlah masing2 ' + i + ' di tiap Ynya')"
   ]
  },
  {
   "cell_type": "markdown",
   "metadata": {},
   "source": [
    "__Insight__ :\n",
    "\n",
    "1. masing-masing nilai di Categorical Features,  memiliki jumlah yang  bebrbeda signikan untuk masing2 Default Paymentnya\n",
    "2. Dapat dilihat bahwa dari X6 - X11 untuk default payment = 1, masih tetap didominasi dengan nilai 0 yanng artinya di dalam kelompok orang-orang yang gagal bayar tagihan bulan selanjutnya, justru masih didominasi oleh orang2 yang tepat waktu bayar tagihannya"
   ]
  },
  {
   "cell_type": "markdown",
   "metadata": {},
   "source": [
    "# MACHINE LEARNING\n",
    "\n",
    "- Kolom target = 'Y'\n",
    "\n",
    "__LAKUKAN Adding features__\n",
    "\n",
    "Jadi untuk Kolom : \n",
    "1. 'X6', 'X7', 'X8', 'X9', 'X10', 'X11' ==> dikelompokkan jadi 1 kolom yang isinya __modus__ dari masing2 baris ==> maksudnya dicari nilai modusnya untuk 5 bulan terakhir. ==> dicari modusnya karena kolom tersebut adalah kategorikal\n",
    "2. 'X12', 'X13', 'X14', 'X15', 'X16', 'X17' ==> dikelompokkan jadi 1 kolom yang isinya __rata2__ dari masing2 baris ==> maksudnya dicari nilai meannya untuk 5 bulan terakhir ==> dicari meannya karena kolom tersebut adalah numerikal\n",
    "3. 'X18', 'X19', 'X20', 'X21', 'X22', 'X23' ==> dikelompokkan jadi 1 kolom yang isinya __rata2__ dari masing2 baris ==> maksudnya dicari nilai meannya untuk 5 bulan terakhir ==> dicari meannya karena kolom tersebut adalah numerikal"
   ]
  },
  {
   "cell_type": "code",
   "execution_count": 22,
   "metadata": {},
   "outputs": [],
   "source": [
    "from sklearn.tree import DecisionTreeClassifier\n",
    "from sklearn.ensemble import RandomForestClassifier\n",
    "from sklearn.svm import SVC\n",
    "\n",
    "from sklearn.pipeline import Pipeline\n",
    "from sklearn.preprocessing import RobustScaler, PowerTransformer, OneHotEncoder, PolynomialFeatures\n",
    "\n",
    "from sklearn.compose import ColumnTransformer\n",
    "\n",
    "from sklearn.model_selection import train_test_split, StratifiedKFold, GridSearchCV, RandomizedSearchCV\n",
    "from sklearn.metrics import confusion_matrix, classification_report"
   ]
  },
  {
   "cell_type": "code",
   "execution_count": 23,
   "metadata": {},
   "outputs": [],
   "source": [
    "aa = []\n",
    "for i in range (len(df)):\n",
    "    aa.append(df[['X6', 'X7', 'X8', 'X9', 'X10', 'X11']].loc[i].mode()[0])"
   ]
  },
  {
   "cell_type": "code",
   "execution_count": 24,
   "metadata": {},
   "outputs": [],
   "source": [
    "df['modeX6X11'] = aa"
   ]
  },
  {
   "cell_type": "code",
   "execution_count": 25,
   "metadata": {},
   "outputs": [],
   "source": [
    "bb = []\n",
    "for i in range(len(df)):\n",
    "    bb.append((df[['X12', 'X13', 'X14', 'X15', 'X16', 'X17']].loc[i].sum())/6)"
   ]
  },
  {
   "cell_type": "code",
   "execution_count": 26,
   "metadata": {},
   "outputs": [],
   "source": [
    "df['meanX12X17'] = bb"
   ]
  },
  {
   "cell_type": "code",
   "execution_count": 27,
   "metadata": {},
   "outputs": [],
   "source": [
    "cc = []\n",
    "for i in range(len(df)):\n",
    "    cc.append((df[['X18', 'X19', 'X20', 'X21', 'X22', 'X23']].loc[i].sum())/6)"
   ]
  },
  {
   "cell_type": "code",
   "execution_count": 72,
   "metadata": {},
   "outputs": [],
   "source": [
    "df['meanX18X23'] = cc"
   ]
  },
  {
   "cell_type": "code",
   "execution_count": 73,
   "metadata": {},
   "outputs": [],
   "source": [
    "df_1 = df.drop(columns=['X6', 'X7', 'X8', 'X9', 'X10', 'X11', 'X12', 'X13', 'X14', 'X15', 'X16', 'X17', 'X18', 'X19', 'X20', 'X21', 'X22', 'X23'])"
   ]
  },
  {
   "cell_type": "code",
   "execution_count": 74,
   "metadata": {},
   "outputs": [],
   "source": [
    "df_1[['X1', 'X2', 'X5', 'Y']] = df_1[['X1', 'X2', 'X5', 'Y']].astype('int') "
   ]
  },
  {
   "cell_type": "code",
   "execution_count": 75,
   "metadata": {},
   "outputs": [
    {
     "data": {
      "text/html": [
       "<div>\n",
       "<style scoped>\n",
       "    .dataframe tbody tr th:only-of-type {\n",
       "        vertical-align: middle;\n",
       "    }\n",
       "\n",
       "    .dataframe tbody tr th {\n",
       "        vertical-align: top;\n",
       "    }\n",
       "\n",
       "    .dataframe thead th {\n",
       "        text-align: right;\n",
       "    }\n",
       "</style>\n",
       "<table border=\"1\" class=\"dataframe\">\n",
       "  <thead>\n",
       "    <tr style=\"text-align: right;\">\n",
       "      <th></th>\n",
       "      <th>X1</th>\n",
       "      <th>X2</th>\n",
       "      <th>X3</th>\n",
       "      <th>X4</th>\n",
       "      <th>X5</th>\n",
       "      <th>Y</th>\n",
       "      <th>modeX6X11</th>\n",
       "      <th>meanX12X17</th>\n",
       "      <th>meanX18X23</th>\n",
       "    </tr>\n",
       "  </thead>\n",
       "  <tbody>\n",
       "    <tr>\n",
       "      <th>0</th>\n",
       "      <td>20000</td>\n",
       "      <td>2</td>\n",
       "      <td>2</td>\n",
       "      <td>1</td>\n",
       "      <td>24</td>\n",
       "      <td>1</td>\n",
       "      <td>-2</td>\n",
       "      <td>1284.000000</td>\n",
       "      <td>114.833333</td>\n",
       "    </tr>\n",
       "    <tr>\n",
       "      <th>1</th>\n",
       "      <td>120000</td>\n",
       "      <td>2</td>\n",
       "      <td>2</td>\n",
       "      <td>2</td>\n",
       "      <td>26</td>\n",
       "      <td>1</td>\n",
       "      <td>0</td>\n",
       "      <td>2846.166667</td>\n",
       "      <td>833.333333</td>\n",
       "    </tr>\n",
       "    <tr>\n",
       "      <th>2</th>\n",
       "      <td>90000</td>\n",
       "      <td>2</td>\n",
       "      <td>2</td>\n",
       "      <td>2</td>\n",
       "      <td>34</td>\n",
       "      <td>0</td>\n",
       "      <td>0</td>\n",
       "      <td>16942.166667</td>\n",
       "      <td>1836.333333</td>\n",
       "    </tr>\n",
       "    <tr>\n",
       "      <th>3</th>\n",
       "      <td>50000</td>\n",
       "      <td>2</td>\n",
       "      <td>2</td>\n",
       "      <td>1</td>\n",
       "      <td>37</td>\n",
       "      <td>0</td>\n",
       "      <td>0</td>\n",
       "      <td>38555.666667</td>\n",
       "      <td>1398.000000</td>\n",
       "    </tr>\n",
       "    <tr>\n",
       "      <th>4</th>\n",
       "      <td>50000</td>\n",
       "      <td>1</td>\n",
       "      <td>2</td>\n",
       "      <td>1</td>\n",
       "      <td>57</td>\n",
       "      <td>0</td>\n",
       "      <td>0</td>\n",
       "      <td>18223.166667</td>\n",
       "      <td>9841.500000</td>\n",
       "    </tr>\n",
       "  </tbody>\n",
       "</table>\n",
       "</div>"
      ],
      "text/plain": [
       "       X1  X2 X3 X4  X5  Y  modeX6X11    meanX12X17   meanX18X23\n",
       "0   20000   2  2  1  24  1         -2   1284.000000   114.833333\n",
       "1  120000   2  2  2  26  1          0   2846.166667   833.333333\n",
       "2   90000   2  2  2  34  0          0  16942.166667  1836.333333\n",
       "3   50000   2  2  1  37  0          0  38555.666667  1398.000000\n",
       "4   50000   1  2  1  57  0          0  18223.166667  9841.500000"
      ]
     },
     "execution_count": 75,
     "metadata": {},
     "output_type": "execute_result"
    }
   ],
   "source": [
    "df_1.head()"
   ]
  },
  {
   "cell_type": "code",
   "execution_count": 76,
   "metadata": {},
   "outputs": [
    {
     "data": {
      "text/plain": [
       " 0    16746\n",
       "-1     6219\n",
       "-2     4506\n",
       " 2     2348\n",
       " 3       76\n",
       " 7       53\n",
       " 4       39\n",
       " 1        8\n",
       " 5        3\n",
       " 8        1\n",
       " 6        1\n",
       "Name: modeX6X11, dtype: int64"
      ]
     },
     "execution_count": 76,
     "metadata": {},
     "output_type": "execute_result"
    }
   ],
   "source": [
    "df_1['modeX6X11'].value_counts()"
   ]
  },
  {
   "cell_type": "code",
   "execution_count": 77,
   "metadata": {},
   "outputs": [
    {
     "data": {
      "text/html": [
       "<div>\n",
       "<style scoped>\n",
       "    .dataframe tbody tr th:only-of-type {\n",
       "        vertical-align: middle;\n",
       "    }\n",
       "\n",
       "    .dataframe tbody tr th {\n",
       "        vertical-align: top;\n",
       "    }\n",
       "\n",
       "    .dataframe thead th {\n",
       "        text-align: right;\n",
       "    }\n",
       "</style>\n",
       "<table border=\"1\" class=\"dataframe\">\n",
       "  <thead>\n",
       "    <tr style=\"text-align: right;\">\n",
       "      <th></th>\n",
       "      <th>X1</th>\n",
       "      <th>X2</th>\n",
       "      <th>X3</th>\n",
       "      <th>X4</th>\n",
       "      <th>X5</th>\n",
       "      <th>Y</th>\n",
       "      <th>meanX12X17</th>\n",
       "      <th>meanX18X23</th>\n",
       "      <th>Rec_modeX6X11</th>\n",
       "    </tr>\n",
       "  </thead>\n",
       "  <tbody>\n",
       "    <tr>\n",
       "      <th>0</th>\n",
       "      <td>20000</td>\n",
       "      <td>2</td>\n",
       "      <td>2</td>\n",
       "      <td>1</td>\n",
       "      <td>24</td>\n",
       "      <td>1</td>\n",
       "      <td>1284.000000</td>\n",
       "      <td>114.833333</td>\n",
       "      <td>&lt; 0</td>\n",
       "    </tr>\n",
       "    <tr>\n",
       "      <th>1</th>\n",
       "      <td>120000</td>\n",
       "      <td>2</td>\n",
       "      <td>2</td>\n",
       "      <td>2</td>\n",
       "      <td>26</td>\n",
       "      <td>1</td>\n",
       "      <td>2846.166667</td>\n",
       "      <td>833.333333</td>\n",
       "      <td>0</td>\n",
       "    </tr>\n",
       "    <tr>\n",
       "      <th>2</th>\n",
       "      <td>90000</td>\n",
       "      <td>2</td>\n",
       "      <td>2</td>\n",
       "      <td>2</td>\n",
       "      <td>34</td>\n",
       "      <td>0</td>\n",
       "      <td>16942.166667</td>\n",
       "      <td>1836.333333</td>\n",
       "      <td>0</td>\n",
       "    </tr>\n",
       "    <tr>\n",
       "      <th>3</th>\n",
       "      <td>50000</td>\n",
       "      <td>2</td>\n",
       "      <td>2</td>\n",
       "      <td>1</td>\n",
       "      <td>37</td>\n",
       "      <td>0</td>\n",
       "      <td>38555.666667</td>\n",
       "      <td>1398.000000</td>\n",
       "      <td>0</td>\n",
       "    </tr>\n",
       "    <tr>\n",
       "      <th>4</th>\n",
       "      <td>50000</td>\n",
       "      <td>1</td>\n",
       "      <td>2</td>\n",
       "      <td>1</td>\n",
       "      <td>57</td>\n",
       "      <td>0</td>\n",
       "      <td>18223.166667</td>\n",
       "      <td>9841.500000</td>\n",
       "      <td>0</td>\n",
       "    </tr>\n",
       "  </tbody>\n",
       "</table>\n",
       "</div>"
      ],
      "text/plain": [
       "       X1  X2 X3 X4  X5  Y    meanX12X17   meanX18X23 Rec_modeX6X11\n",
       "0   20000   2  2  1  24  1   1284.000000   114.833333           < 0\n",
       "1  120000   2  2  2  26  1   2846.166667   833.333333             0\n",
       "2   90000   2  2  2  34  0  16942.166667  1836.333333             0\n",
       "3   50000   2  2  1  37  0  38555.666667  1398.000000             0\n",
       "4   50000   1  2  1  57  0  18223.166667  9841.500000             0"
      ]
     },
     "execution_count": 77,
     "metadata": {},
     "output_type": "execute_result"
    }
   ],
   "source": [
    "## recategorize kolom 'modeX6X11'\n",
    "\n",
    "df_1['Rec_modeX6X11'] = ''\n",
    "df_1['Rec_modeX6X11'][df_1['modeX6X11']< 0] = '< 0'\n",
    "df_1['Rec_modeX6X11'][df_1['modeX6X11'] == 0] = '0'\n",
    "df_1['Rec_modeX6X11'][(df_1['modeX6X11'] > 0) & (df_1['modeX6X11'] <= 5)] = '1 - 5'\n",
    "df_1['Rec_modeX6X11'][(df_1['modeX6X11'] > 5) & (df_1['modeX6X11'] < 9)] = '> 5'\n",
    "df_1 = df_1.drop(columns='modeX6X11')\n",
    "df_1.head()"
   ]
  },
  {
   "cell_type": "markdown",
   "metadata": {},
   "source": [
    "## Cek Imbalance Data"
   ]
  },
  {
   "cell_type": "code",
   "execution_count": 78,
   "metadata": {},
   "outputs": [
    {
     "data": {
      "text/plain": [
       "0    23364\n",
       "1     6636\n",
       "Name: Y, dtype: int64"
      ]
     },
     "execution_count": 78,
     "metadata": {},
     "output_type": "execute_result"
    }
   ],
   "source": [
    "df_1['Y'].value_counts()"
   ]
  },
  {
   "cell_type": "markdown",
   "metadata": {},
   "source": [
    "0 == > tidak susah untuk bayar tagihan bulan selanjutnya\n",
    "\n",
    "1 ==> susah/sulit untuk bayar tagihan bulan selanjutnya"
   ]
  },
  {
   "cell_type": "markdown",
   "metadata": {},
   "source": [
    "## Splitting Data"
   ]
  },
  {
   "cell_type": "code",
   "execution_count": 79,
   "metadata": {},
   "outputs": [],
   "source": [
    "X = df_1.drop(columns='Y')\n",
    "y = df_1['Y']"
   ]
  },
  {
   "cell_type": "code",
   "execution_count": 81,
   "metadata": {},
   "outputs": [],
   "source": [
    "X_train, X_test, y_train, y_test = train_test_split(X, y, stratify=y, test_size=.20, random_state=42)"
   ]
  },
  {
   "cell_type": "markdown",
   "metadata": {},
   "source": [
    "## PIPELINE"
   ]
  },
  {
   "cell_type": "code",
   "execution_count": 82,
   "metadata": {},
   "outputs": [],
   "source": [
    "num_columns = ['X1', 'X5', 'meanX12X17', 'meanX18X23']\n",
    "\n",
    "cat_columns = ['X2', 'X3', 'X4', 'Rec_modeX6X11']"
   ]
  },
  {
   "cell_type": "code",
   "execution_count": 83,
   "metadata": {},
   "outputs": [],
   "source": [
    "numeric_pipeline = Pipeline([\n",
    "#     ('scaler', RobustScaler()),\n",
    "    ('poly', PolynomialFeatures(degree=2, include_bias=False)),\n",
    "    ('power', PowerTransformer(method='yeo-johnson'))\n",
    "])\n",
    "\n",
    "categoric_pipeline = Pipeline([\n",
    "    ('encoder', OneHotEncoder())\n",
    "])\n",
    "\n",
    "preprocessor = ColumnTransformer([\n",
    "    ('numeric', numeric_pipeline, num_columns),\n",
    "    ('categorical', categoric_pipeline, cat_columns)\n",
    "])\n",
    "\n",
    "pipe_SVM = Pipeline([\n",
    "    ('prep', preprocessor),\n",
    "    ('algo', SVC(max_iter=500))\n",
    "])\n",
    "\n",
    "pipe_DT = Pipeline([\n",
    "    ('prep', preprocessor),\n",
    "    ('algo', DecisionTreeClassifier(random_state=42))\n",
    "])\n",
    "\n",
    "pipe_RF = Pipeline([\n",
    "    ('prep', preprocessor),\n",
    "    ('algo', RandomForestClassifier(random_state=42))\n",
    "])"
   ]
  },
  {
   "cell_type": "markdown",
   "metadata": {},
   "source": [
    "## Def Eva Metrix\n",
    "\n",
    "Fungsi def yg isinya evaluation metrix.\n",
    "Evaluation matrix yang dipakai kali ini adalah Cunfusion matrix dan Classification report"
   ]
  },
  {
   "cell_type": "code",
   "execution_count": 84,
   "metadata": {},
   "outputs": [],
   "source": [
    "def conf_mat (Model, X_train, X_test, y_train, y_test,Nama):\n",
    "    y_pred_test = Model.predict(X_test)\n",
    "    cm_test = confusion_matrix(y_test, y_pred_test, labels=[1,0])\n",
    "    df = pd.DataFrame(cm_test, index = ['Akt1', 'Akt0'], columns=['Pred1', 'Pred0'])\n",
    "    print( 'Classification report data test ' + Nama + '\\n\\n', classification_report(y_test, y_pred_test))\n",
    "    \n",
    "    y_pred_train = Model.predict(X_train)\n",
    "    print( 'Classification report data train ' + Nama + '\\n\\n', classification_report(y_train, y_pred_train))\n",
    "#     return plt.title('Confusion matrix data test ' + Nama + '\\n'), sns.heatmap(df, annot=True)\n",
    "    print ('Confusion matrix data test ' + Nama + '\\n')\n",
    "    return df"
   ]
  },
  {
   "cell_type": "markdown",
   "metadata": {},
   "source": [
    "## Modelling\n",
    "\n",
    "model yang dipakai ada 3 algoritma yaitu : Decision Tree Classifier (DT), Random Forest Classifier (RF) dan XG Boost Classifuer (XGB)"
   ]
  },
  {
   "cell_type": "markdown",
   "metadata": {},
   "source": [
    "__DT__"
   ]
  },
  {
   "cell_type": "code",
   "execution_count": 85,
   "metadata": {},
   "outputs": [
    {
     "data": {
      "text/plain": [
       "Pipeline(steps=[('prep',\n",
       "                 ColumnTransformer(transformers=[('numeric',\n",
       "                                                  Pipeline(steps=[('poly',\n",
       "                                                                   PolynomialFeatures(include_bias=False)),\n",
       "                                                                  ('power',\n",
       "                                                                   PowerTransformer())]),\n",
       "                                                  ['X1', 'X5', 'meanX12X17',\n",
       "                                                   'meanX18X23']),\n",
       "                                                 ('categorical',\n",
       "                                                  Pipeline(steps=[('encoder',\n",
       "                                                                   OneHotEncoder())]),\n",
       "                                                  ['X2', 'X3', 'X4',\n",
       "                                                   'Rec_modeX6X11'])])),\n",
       "                ('algo', DecisionTreeClassifier(random_state=42))])"
      ]
     },
     "execution_count": 85,
     "metadata": {},
     "output_type": "execute_result"
    }
   ],
   "source": [
    "pipe_DT.fit(X_train, y_train)"
   ]
  },
  {
   "cell_type": "code",
   "execution_count": 86,
   "metadata": {},
   "outputs": [
    {
     "name": "stdout",
     "output_type": "stream",
     "text": [
      "Classification report data test DT Base\n",
      "\n",
      "               precision    recall  f1-score   support\n",
      "\n",
      "           0       0.81      0.79      0.80      4673\n",
      "           1       0.32      0.34      0.33      1327\n",
      "\n",
      "    accuracy                           0.69      6000\n",
      "   macro avg       0.56      0.57      0.56      6000\n",
      "weighted avg       0.70      0.69      0.70      6000\n",
      "\n",
      "Classification report data train DT Base\n",
      "\n",
      "               precision    recall  f1-score   support\n",
      "\n",
      "           0       1.00      1.00      1.00     18691\n",
      "           1       1.00      1.00      1.00      5309\n",
      "\n",
      "    accuracy                           1.00     24000\n",
      "   macro avg       1.00      1.00      1.00     24000\n",
      "weighted avg       1.00      1.00      1.00     24000\n",
      "\n",
      "Confusion matrix data test DT Base\n",
      "\n"
     ]
    },
    {
     "data": {
      "text/html": [
       "<div>\n",
       "<style scoped>\n",
       "    .dataframe tbody tr th:only-of-type {\n",
       "        vertical-align: middle;\n",
       "    }\n",
       "\n",
       "    .dataframe tbody tr th {\n",
       "        vertical-align: top;\n",
       "    }\n",
       "\n",
       "    .dataframe thead th {\n",
       "        text-align: right;\n",
       "    }\n",
       "</style>\n",
       "<table border=\"1\" class=\"dataframe\">\n",
       "  <thead>\n",
       "    <tr style=\"text-align: right;\">\n",
       "      <th></th>\n",
       "      <th>Pred1</th>\n",
       "      <th>Pred0</th>\n",
       "    </tr>\n",
       "  </thead>\n",
       "  <tbody>\n",
       "    <tr>\n",
       "      <th>Akt1</th>\n",
       "      <td>447</td>\n",
       "      <td>880</td>\n",
       "    </tr>\n",
       "    <tr>\n",
       "      <th>Akt0</th>\n",
       "      <td>962</td>\n",
       "      <td>3711</td>\n",
       "    </tr>\n",
       "  </tbody>\n",
       "</table>\n",
       "</div>"
      ],
      "text/plain": [
       "      Pred1  Pred0\n",
       "Akt1    447    880\n",
       "Akt0    962   3711"
      ]
     },
     "execution_count": 86,
     "metadata": {},
     "output_type": "execute_result"
    }
   ],
   "source": [
    "conf_mat(pipe_DT, X_train, X_test, y_train, y_test, 'DT Base')"
   ]
  },
  {
   "cell_type": "markdown",
   "metadata": {},
   "source": [
    "__RF__"
   ]
  },
  {
   "cell_type": "code",
   "execution_count": 87,
   "metadata": {},
   "outputs": [
    {
     "data": {
      "text/plain": [
       "Pipeline(steps=[('prep',\n",
       "                 ColumnTransformer(transformers=[('numeric',\n",
       "                                                  Pipeline(steps=[('poly',\n",
       "                                                                   PolynomialFeatures(include_bias=False)),\n",
       "                                                                  ('power',\n",
       "                                                                   PowerTransformer())]),\n",
       "                                                  ['X1', 'X5', 'meanX12X17',\n",
       "                                                   'meanX18X23']),\n",
       "                                                 ('categorical',\n",
       "                                                  Pipeline(steps=[('encoder',\n",
       "                                                                   OneHotEncoder())]),\n",
       "                                                  ['X2', 'X3', 'X4',\n",
       "                                                   'Rec_modeX6X11'])])),\n",
       "                ('algo', RandomForestClassifier(random_state=42))])"
      ]
     },
     "execution_count": 87,
     "metadata": {},
     "output_type": "execute_result"
    }
   ],
   "source": [
    "pipe_RF.fit(X_train, y_train)"
   ]
  },
  {
   "cell_type": "code",
   "execution_count": 88,
   "metadata": {},
   "outputs": [
    {
     "name": "stdout",
     "output_type": "stream",
     "text": [
      "Classification report data test RF Base\n",
      "\n",
      "               precision    recall  f1-score   support\n",
      "\n",
      "           0       0.82      0.95      0.88      4673\n",
      "           1       0.58      0.25      0.35      1327\n",
      "\n",
      "    accuracy                           0.79      6000\n",
      "   macro avg       0.70      0.60      0.61      6000\n",
      "weighted avg       0.76      0.79      0.76      6000\n",
      "\n",
      "Classification report data train RF Base\n",
      "\n",
      "               precision    recall  f1-score   support\n",
      "\n",
      "           0       1.00      1.00      1.00     18691\n",
      "           1       1.00      1.00      1.00      5309\n",
      "\n",
      "    accuracy                           1.00     24000\n",
      "   macro avg       1.00      1.00      1.00     24000\n",
      "weighted avg       1.00      1.00      1.00     24000\n",
      "\n",
      "Confusion matrix data test RF Base\n",
      "\n"
     ]
    },
    {
     "data": {
      "text/html": [
       "<div>\n",
       "<style scoped>\n",
       "    .dataframe tbody tr th:only-of-type {\n",
       "        vertical-align: middle;\n",
       "    }\n",
       "\n",
       "    .dataframe tbody tr th {\n",
       "        vertical-align: top;\n",
       "    }\n",
       "\n",
       "    .dataframe thead th {\n",
       "        text-align: right;\n",
       "    }\n",
       "</style>\n",
       "<table border=\"1\" class=\"dataframe\">\n",
       "  <thead>\n",
       "    <tr style=\"text-align: right;\">\n",
       "      <th></th>\n",
       "      <th>Pred1</th>\n",
       "      <th>Pred0</th>\n",
       "    </tr>\n",
       "  </thead>\n",
       "  <tbody>\n",
       "    <tr>\n",
       "      <th>Akt1</th>\n",
       "      <td>329</td>\n",
       "      <td>998</td>\n",
       "    </tr>\n",
       "    <tr>\n",
       "      <th>Akt0</th>\n",
       "      <td>241</td>\n",
       "      <td>4432</td>\n",
       "    </tr>\n",
       "  </tbody>\n",
       "</table>\n",
       "</div>"
      ],
      "text/plain": [
       "      Pred1  Pred0\n",
       "Akt1    329    998\n",
       "Akt0    241   4432"
      ]
     },
     "execution_count": 88,
     "metadata": {},
     "output_type": "execute_result"
    }
   ],
   "source": [
    "conf_mat(pipe_RF, X_train, X_test, y_train, y_test, 'RF Base')"
   ]
  },
  {
   "cell_type": "markdown",
   "metadata": {},
   "source": [
    "__SVM__"
   ]
  },
  {
   "cell_type": "code",
   "execution_count": 89,
   "metadata": {},
   "outputs": [
    {
     "data": {
      "text/plain": [
       "Pipeline(steps=[('prep',\n",
       "                 ColumnTransformer(transformers=[('numeric',\n",
       "                                                  Pipeline(steps=[('poly',\n",
       "                                                                   PolynomialFeatures(include_bias=False)),\n",
       "                                                                  ('power',\n",
       "                                                                   PowerTransformer())]),\n",
       "                                                  ['X1', 'X5', 'meanX12X17',\n",
       "                                                   'meanX18X23']),\n",
       "                                                 ('categorical',\n",
       "                                                  Pipeline(steps=[('encoder',\n",
       "                                                                   OneHotEncoder())]),\n",
       "                                                  ['X2', 'X3', 'X4',\n",
       "                                                   'Rec_modeX6X11'])])),\n",
       "                ('algo', SVC(max_iter=500))])"
      ]
     },
     "execution_count": 89,
     "metadata": {},
     "output_type": "execute_result"
    }
   ],
   "source": [
    "pipe_SVM.fit(X_train, y_train)"
   ]
  },
  {
   "cell_type": "code",
   "execution_count": 90,
   "metadata": {},
   "outputs": [
    {
     "name": "stdout",
     "output_type": "stream",
     "text": [
      "Classification report data test SVM Base\n",
      "\n",
      "               precision    recall  f1-score   support\n",
      "\n",
      "           0       0.81      0.58      0.68      4673\n",
      "           1       0.26      0.51      0.34      1327\n",
      "\n",
      "    accuracy                           0.57      6000\n",
      "   macro avg       0.53      0.55      0.51      6000\n",
      "weighted avg       0.69      0.57      0.60      6000\n",
      "\n",
      "Classification report data train SVM Base\n",
      "\n",
      "               precision    recall  f1-score   support\n",
      "\n",
      "           0       0.82      0.59      0.69     18691\n",
      "           1       0.27      0.54      0.36      5309\n",
      "\n",
      "    accuracy                           0.58     24000\n",
      "   macro avg       0.55      0.57      0.53     24000\n",
      "weighted avg       0.70      0.58      0.62     24000\n",
      "\n",
      "Confusion matrix data test SVM Base\n",
      "\n"
     ]
    },
    {
     "data": {
      "text/html": [
       "<div>\n",
       "<style scoped>\n",
       "    .dataframe tbody tr th:only-of-type {\n",
       "        vertical-align: middle;\n",
       "    }\n",
       "\n",
       "    .dataframe tbody tr th {\n",
       "        vertical-align: top;\n",
       "    }\n",
       "\n",
       "    .dataframe thead th {\n",
       "        text-align: right;\n",
       "    }\n",
       "</style>\n",
       "<table border=\"1\" class=\"dataframe\">\n",
       "  <thead>\n",
       "    <tr style=\"text-align: right;\">\n",
       "      <th></th>\n",
       "      <th>Pred1</th>\n",
       "      <th>Pred0</th>\n",
       "    </tr>\n",
       "  </thead>\n",
       "  <tbody>\n",
       "    <tr>\n",
       "      <th>Akt1</th>\n",
       "      <td>679</td>\n",
       "      <td>648</td>\n",
       "    </tr>\n",
       "    <tr>\n",
       "      <th>Akt0</th>\n",
       "      <td>1955</td>\n",
       "      <td>2718</td>\n",
       "    </tr>\n",
       "  </tbody>\n",
       "</table>\n",
       "</div>"
      ],
      "text/plain": [
       "      Pred1  Pred0\n",
       "Akt1    679    648\n",
       "Akt0   1955   2718"
      ]
     },
     "execution_count": 90,
     "metadata": {},
     "output_type": "execute_result"
    }
   ],
   "source": [
    "conf_mat(pipe_SVM, X_train, X_test, y_train, y_test, 'SVM Base')"
   ]
  },
  {
   "cell_type": "markdown",
   "metadata": {},
   "source": [
    "__Penjelasan Eva Metrix__"
   ]
  },
  {
   "cell_type": "markdown",
   "metadata": {},
   "source": [
    "Dalam hal ini kita memfokuskan diri di recall karena \n",
    "\n",
    "ketika prediksi 0 tetapi aktual 1 itu lebih berbahaya.\n",
    "\n",
    "Harus ditekan False Negatifnya\n",
    "\n",
    "tpi bukan berarti False positif tinggi tidak memberikan efek juga jd harus diusahakan untuk lebih kecil juga false positifnya"
   ]
  },
  {
   "cell_type": "markdown",
   "metadata": {},
   "source": [
    "## HyperParameter Tuning"
   ]
  },
  {
   "cell_type": "code",
   "execution_count": 91,
   "metadata": {},
   "outputs": [],
   "source": [
    "skf = StratifiedKFold(n_splits=3)"
   ]
  },
  {
   "cell_type": "markdown",
   "metadata": {},
   "source": [
    "========================\n",
    "\n",
    "__DT__\n",
    "\n",
    "========================"
   ]
  },
  {
   "cell_type": "code",
   "execution_count": 92,
   "metadata": {},
   "outputs": [],
   "source": [
    "param_DT = {\n",
    "    'algo__max_depth': list(np.arange(0, 101, 5)) + [None],\n",
    "    'algo__min_samples_leaf': np.arange(1, 50, 5),\n",
    "#     'algo__max_features': [0, 0.2, 0.4, 0.6, 0.8, 1]\n",
    "    'algo__class_weight': [None, {0:.4, 1:.6}, {0:.3, 1:.7}, {0:.2, 1:.8}, {0:.15, 1: .85}, {0:.1, 1:.9}]\n",
    "}"
   ]
  },
  {
   "cell_type": "code",
   "execution_count": 93,
   "metadata": {},
   "outputs": [],
   "source": [
    "DT_RS = RandomizedSearchCV(pipe_DT, param_DT, cv=skf, n_iter=100, n_jobs=-1, verbose=1, random_state=42, scoring='recall')"
   ]
  },
  {
   "cell_type": "code",
   "execution_count": 94,
   "metadata": {},
   "outputs": [
    {
     "data": {
      "text/plain": [
       "['X2', 'X3', 'X4', 'Rec_modeX6X11']"
      ]
     },
     "execution_count": 94,
     "metadata": {},
     "output_type": "execute_result"
    }
   ],
   "source": [
    "cat_columns"
   ]
  },
  {
   "cell_type": "code",
   "execution_count": 95,
   "metadata": {},
   "outputs": [
    {
     "data": {
      "text/plain": [
       "0        13408\n",
       "< 0       8576\n",
       "1 - 5     1978\n",
       "> 5         38\n",
       "Name: Rec_modeX6X11, dtype: int64"
      ]
     },
     "execution_count": 95,
     "metadata": {},
     "output_type": "execute_result"
    }
   ],
   "source": [
    "X_train[cat_columns[3]].value_counts()"
   ]
  },
  {
   "cell_type": "code",
   "execution_count": 96,
   "metadata": {},
   "outputs": [
    {
     "name": "stdout",
     "output_type": "stream",
     "text": [
      "Fitting 3 folds for each of 100 candidates, totalling 300 fits\n"
     ]
    },
    {
     "name": "stderr",
     "output_type": "stream",
     "text": [
      "[Parallel(n_jobs=-1)]: Using backend LokyBackend with 8 concurrent workers.\n",
      "[Parallel(n_jobs=-1)]: Done  34 tasks      | elapsed:   11.4s\n",
      "[Parallel(n_jobs=-1)]: Done 184 tasks      | elapsed:   46.3s\n",
      "[Parallel(n_jobs=-1)]: Done 300 out of 300 | elapsed:  1.2min finished\n"
     ]
    },
    {
     "data": {
      "text/plain": [
       "RandomizedSearchCV(cv=StratifiedKFold(n_splits=3, random_state=None, shuffle=False),\n",
       "                   estimator=Pipeline(steps=[('prep',\n",
       "                                              ColumnTransformer(transformers=[('numeric',\n",
       "                                                                               Pipeline(steps=[('poly',\n",
       "                                                                                                PolynomialFeatures(include_bias=False)),\n",
       "                                                                                               ('power',\n",
       "                                                                                                PowerTransformer())]),\n",
       "                                                                               ['X1',\n",
       "                                                                                'X5',\n",
       "                                                                                'meanX12X17',\n",
       "                                                                                'meanX18X23']),\n",
       "                                                                              ('categorical',\n",
       "                                                                               Pipeline(steps=[('encoder',\n",
       "                                                                                                OneHotEncoder()...\n",
       "                                              DecisionTreeClassifier(random_state=42))]),\n",
       "                   n_iter=100, n_jobs=-1,\n",
       "                   param_distributions={'algo__class_weight': [None,\n",
       "                                                               {0: 0.4, 1: 0.6},\n",
       "                                                               {0: 0.3, 1: 0.7},\n",
       "                                                               {0: 0.2, 1: 0.8},\n",
       "                                                               {0: 0.15,\n",
       "                                                                1: 0.85},\n",
       "                                                               {0: 0.1,\n",
       "                                                                1: 0.9}],\n",
       "                                        'algo__max_depth': [0, 5, 10, 15, 20,\n",
       "                                                            25, 30, 35, 40, 45,\n",
       "                                                            50, 55, 60, 65, 70,\n",
       "                                                            75, 80, 85, 90, 95,\n",
       "                                                            100, None],\n",
       "                                        'algo__min_samples_leaf': array([ 1,  6, 11, 16, 21, 26, 31, 36, 41, 46])},\n",
       "                   random_state=42, scoring='recall', verbose=1)"
      ]
     },
     "execution_count": 96,
     "metadata": {},
     "output_type": "execute_result"
    }
   ],
   "source": [
    "DT_RS.fit(X_train, y_train)"
   ]
  },
  {
   "cell_type": "code",
   "execution_count": 97,
   "metadata": {},
   "outputs": [
    {
     "data": {
      "text/plain": [
       "{'algo__min_samples_leaf': 46,\n",
       " 'algo__max_depth': 5,\n",
       " 'algo__class_weight': {0: 0.1, 1: 0.9}}"
      ]
     },
     "execution_count": 97,
     "metadata": {},
     "output_type": "execute_result"
    }
   ],
   "source": [
    "DT_RS.best_params_"
   ]
  },
  {
   "cell_type": "code",
   "execution_count": 101,
   "metadata": {},
   "outputs": [
    {
     "data": {
      "text/plain": [
       "Index(['mean_fit_time', 'std_fit_time', 'mean_score_time', 'std_score_time',\n",
       "       'param_algo__min_samples_leaf', 'param_algo__max_depth',\n",
       "       'param_algo__class_weight', 'params', 'split0_test_score',\n",
       "       'split1_test_score', 'split2_test_score', 'mean_test_score',\n",
       "       'std_test_score', 'rank_test_score'],\n",
       "      dtype='object')"
      ]
     },
     "execution_count": 101,
     "metadata": {},
     "output_type": "execute_result"
    }
   ],
   "source": [
    "pd.DataFrame(DT_RS.cv_results_).columns"
   ]
  },
  {
   "cell_type": "code",
   "execution_count": 102,
   "metadata": {},
   "outputs": [
    {
     "data": {
      "text/html": [
       "<div>\n",
       "<style scoped>\n",
       "    .dataframe tbody tr th:only-of-type {\n",
       "        vertical-align: middle;\n",
       "    }\n",
       "\n",
       "    .dataframe tbody tr th {\n",
       "        vertical-align: top;\n",
       "    }\n",
       "\n",
       "    .dataframe thead th {\n",
       "        text-align: right;\n",
       "    }\n",
       "</style>\n",
       "<table border=\"1\" class=\"dataframe\">\n",
       "  <thead>\n",
       "    <tr style=\"text-align: right;\">\n",
       "      <th></th>\n",
       "      <th>param_algo__min_samples_leaf</th>\n",
       "      <th>param_algo__max_depth</th>\n",
       "      <th>param_algo__class_weight</th>\n",
       "      <th>mean_test_score</th>\n",
       "    </tr>\n",
       "  </thead>\n",
       "  <tbody>\n",
       "    <tr>\n",
       "      <th>0</th>\n",
       "      <td>46</td>\n",
       "      <td>5</td>\n",
       "      <td>{0: 0.1, 1: 0.9}</td>\n",
       "      <td>0.921260</td>\n",
       "    </tr>\n",
       "    <tr>\n",
       "      <th>1</th>\n",
       "      <td>31</td>\n",
       "      <td>5</td>\n",
       "      <td>{0: 0.1, 1: 0.9}</td>\n",
       "      <td>0.920884</td>\n",
       "    </tr>\n",
       "    <tr>\n",
       "      <th>2</th>\n",
       "      <td>1</td>\n",
       "      <td>5</td>\n",
       "      <td>{0: 0.15, 1: 0.85}</td>\n",
       "      <td>0.838014</td>\n",
       "    </tr>\n",
       "    <tr>\n",
       "      <th>3</th>\n",
       "      <td>46</td>\n",
       "      <td>40</td>\n",
       "      <td>{0: 0.1, 1: 0.9}</td>\n",
       "      <td>0.796946</td>\n",
       "    </tr>\n",
       "    <tr>\n",
       "      <th>4</th>\n",
       "      <td>41</td>\n",
       "      <td>15</td>\n",
       "      <td>{0: 0.1, 1: 0.9}</td>\n",
       "      <td>0.793367</td>\n",
       "    </tr>\n",
       "    <tr>\n",
       "      <th>5</th>\n",
       "      <td>16</td>\n",
       "      <td>10</td>\n",
       "      <td>{0: 0.15, 1: 0.85}</td>\n",
       "      <td>0.780932</td>\n",
       "    </tr>\n",
       "    <tr>\n",
       "      <th>6</th>\n",
       "      <td>41</td>\n",
       "      <td>85</td>\n",
       "      <td>{0: 0.1, 1: 0.9}</td>\n",
       "      <td>0.779053</td>\n",
       "    </tr>\n",
       "    <tr>\n",
       "      <th>7</th>\n",
       "      <td>36</td>\n",
       "      <td>75</td>\n",
       "      <td>{0: 0.1, 1: 0.9}</td>\n",
       "      <td>0.776229</td>\n",
       "    </tr>\n",
       "    <tr>\n",
       "      <th>8</th>\n",
       "      <td>11</td>\n",
       "      <td>15</td>\n",
       "      <td>{0: 0.1, 1: 0.9}</td>\n",
       "      <td>0.768879</td>\n",
       "    </tr>\n",
       "    <tr>\n",
       "      <th>9</th>\n",
       "      <td>31</td>\n",
       "      <td>95</td>\n",
       "      <td>{0: 0.1, 1: 0.9}</td>\n",
       "      <td>0.751929</td>\n",
       "    </tr>\n",
       "    <tr>\n",
       "      <th>10</th>\n",
       "      <td>31</td>\n",
       "      <td>60</td>\n",
       "      <td>{0: 0.1, 1: 0.9}</td>\n",
       "      <td>0.751929</td>\n",
       "    </tr>\n",
       "    <tr>\n",
       "      <th>11</th>\n",
       "      <td>26</td>\n",
       "      <td>85</td>\n",
       "      <td>{0: 0.1, 1: 0.9}</td>\n",
       "      <td>0.744397</td>\n",
       "    </tr>\n",
       "    <tr>\n",
       "      <th>12</th>\n",
       "      <td>21</td>\n",
       "      <td>60</td>\n",
       "      <td>{0: 0.1, 1: 0.9}</td>\n",
       "      <td>0.727066</td>\n",
       "    </tr>\n",
       "    <tr>\n",
       "      <th>13</th>\n",
       "      <td>21</td>\n",
       "      <td>100</td>\n",
       "      <td>{0: 0.1, 1: 0.9}</td>\n",
       "      <td>0.727066</td>\n",
       "    </tr>\n",
       "    <tr>\n",
       "      <th>14</th>\n",
       "      <td>21</td>\n",
       "      <td>35</td>\n",
       "      <td>{0: 0.1, 1: 0.9}</td>\n",
       "      <td>0.727066</td>\n",
       "    </tr>\n",
       "    <tr>\n",
       "      <th>15</th>\n",
       "      <td>41</td>\n",
       "      <td>5</td>\n",
       "      <td>{0: 0.2, 1: 0.8}</td>\n",
       "      <td>0.725747</td>\n",
       "    </tr>\n",
       "  </tbody>\n",
       "</table>\n",
       "</div>"
      ],
      "text/plain": [
       "   param_algo__min_samples_leaf param_algo__max_depth  \\\n",
       "0                            46                     5   \n",
       "1                            31                     5   \n",
       "2                             1                     5   \n",
       "3                            46                    40   \n",
       "4                            41                    15   \n",
       "5                            16                    10   \n",
       "6                            41                    85   \n",
       "7                            36                    75   \n",
       "8                            11                    15   \n",
       "9                            31                    95   \n",
       "10                           31                    60   \n",
       "11                           26                    85   \n",
       "12                           21                    60   \n",
       "13                           21                   100   \n",
       "14                           21                    35   \n",
       "15                           41                     5   \n",
       "\n",
       "   param_algo__class_weight  mean_test_score  \n",
       "0          {0: 0.1, 1: 0.9}         0.921260  \n",
       "1          {0: 0.1, 1: 0.9}         0.920884  \n",
       "2        {0: 0.15, 1: 0.85}         0.838014  \n",
       "3          {0: 0.1, 1: 0.9}         0.796946  \n",
       "4          {0: 0.1, 1: 0.9}         0.793367  \n",
       "5        {0: 0.15, 1: 0.85}         0.780932  \n",
       "6          {0: 0.1, 1: 0.9}         0.779053  \n",
       "7          {0: 0.1, 1: 0.9}         0.776229  \n",
       "8          {0: 0.1, 1: 0.9}         0.768879  \n",
       "9          {0: 0.1, 1: 0.9}         0.751929  \n",
       "10         {0: 0.1, 1: 0.9}         0.751929  \n",
       "11         {0: 0.1, 1: 0.9}         0.744397  \n",
       "12         {0: 0.1, 1: 0.9}         0.727066  \n",
       "13         {0: 0.1, 1: 0.9}         0.727066  \n",
       "14         {0: 0.1, 1: 0.9}         0.727066  \n",
       "15         {0: 0.2, 1: 0.8}         0.725747  "
      ]
     },
     "execution_count": 102,
     "metadata": {},
     "output_type": "execute_result"
    }
   ],
   "source": [
    "tab_hyper_DT = pd.DataFrame(DT_RS.cv_results_)[['param_algo__min_samples_leaf', 'param_algo__max_depth', 'param_algo__class_weight', 'mean_test_score']]\n",
    "tab_hyper_DT = (tab_hyper_DT.sort_values(by='mean_test_score', ascending=False).reset_index()).drop(columns='index')\n",
    "tab_hyper_DT[tab_hyper_DT['mean_test_score'] > 0.7]"
   ]
  },
  {
   "cell_type": "markdown",
   "metadata": {},
   "source": [
    "______________\n",
    "_UNTUK yng best estimator_\n",
    "_____________"
   ]
  },
  {
   "cell_type": "code",
   "execution_count": 103,
   "metadata": {},
   "outputs": [],
   "source": [
    "DT_tune = DT_RS.best_estimator_"
   ]
  },
  {
   "cell_type": "code",
   "execution_count": 104,
   "metadata": {},
   "outputs": [
    {
     "data": {
      "text/plain": [
       "Pipeline(steps=[('prep',\n",
       "                 ColumnTransformer(transformers=[('numeric',\n",
       "                                                  Pipeline(steps=[('poly',\n",
       "                                                                   PolynomialFeatures(include_bias=False)),\n",
       "                                                                  ('power',\n",
       "                                                                   PowerTransformer())]),\n",
       "                                                  ['X1', 'X5', 'meanX12X17',\n",
       "                                                   'meanX18X23']),\n",
       "                                                 ('categorical',\n",
       "                                                  Pipeline(steps=[('encoder',\n",
       "                                                                   OneHotEncoder())]),\n",
       "                                                  ['X2', 'X3', 'X4',\n",
       "                                                   'Rec_modeX6X11'])])),\n",
       "                ('algo',\n",
       "                 DecisionTreeClassifier(class_weight={0: 0.1, 1: 0.9},\n",
       "                                        max_depth=5, min_samples_leaf=46,\n",
       "                                        random_state=42))])"
      ]
     },
     "execution_count": 104,
     "metadata": {},
     "output_type": "execute_result"
    }
   ],
   "source": [
    "DT_tune.fit(X_train, y_train)"
   ]
  },
  {
   "cell_type": "code",
   "execution_count": 105,
   "metadata": {},
   "outputs": [
    {
     "name": "stdout",
     "output_type": "stream",
     "text": [
      "Classification report data test DT Tuned\n",
      "\n",
      "               precision    recall  f1-score   support\n",
      "\n",
      "           0       0.92      0.12      0.22      4673\n",
      "           1       0.24      0.96      0.38      1327\n",
      "\n",
      "    accuracy                           0.31      6000\n",
      "   macro avg       0.58      0.54      0.30      6000\n",
      "weighted avg       0.77      0.31      0.25      6000\n",
      "\n",
      "Classification report data train DT Tuned\n",
      "\n",
      "               precision    recall  f1-score   support\n",
      "\n",
      "           0       0.94      0.13      0.23     18691\n",
      "           1       0.24      0.97      0.39      5309\n",
      "\n",
      "    accuracy                           0.32     24000\n",
      "   macro avg       0.59      0.55      0.31     24000\n",
      "weighted avg       0.78      0.32      0.26     24000\n",
      "\n",
      "Confusion matrix data test DT Tuned\n",
      "\n"
     ]
    },
    {
     "data": {
      "text/html": [
       "<div>\n",
       "<style scoped>\n",
       "    .dataframe tbody tr th:only-of-type {\n",
       "        vertical-align: middle;\n",
       "    }\n",
       "\n",
       "    .dataframe tbody tr th {\n",
       "        vertical-align: top;\n",
       "    }\n",
       "\n",
       "    .dataframe thead th {\n",
       "        text-align: right;\n",
       "    }\n",
       "</style>\n",
       "<table border=\"1\" class=\"dataframe\">\n",
       "  <thead>\n",
       "    <tr style=\"text-align: right;\">\n",
       "      <th></th>\n",
       "      <th>Pred1</th>\n",
       "      <th>Pred0</th>\n",
       "    </tr>\n",
       "  </thead>\n",
       "  <tbody>\n",
       "    <tr>\n",
       "      <th>Akt1</th>\n",
       "      <td>1280</td>\n",
       "      <td>47</td>\n",
       "    </tr>\n",
       "    <tr>\n",
       "      <th>Akt0</th>\n",
       "      <td>4103</td>\n",
       "      <td>570</td>\n",
       "    </tr>\n",
       "  </tbody>\n",
       "</table>\n",
       "</div>"
      ],
      "text/plain": [
       "      Pred1  Pred0\n",
       "Akt1   1280     47\n",
       "Akt0   4103    570"
      ]
     },
     "execution_count": 105,
     "metadata": {},
     "output_type": "execute_result"
    }
   ],
   "source": [
    "conf_mat(DT_tune, X_train, X_test, y_train, y_test, 'DT Tuned')"
   ]
  },
  {
   "cell_type": "markdown",
   "metadata": {},
   "source": [
    "__Penjelasan Eva Matrix__ :\n",
    "\n",
    "Dapat dilihat bahwa False Negatif berkurang diiring dengan recall yang naik, tetapi False postif kelewat batas jd coba dicari lagi kombinasi yang tepat"
   ]
  },
  {
   "cell_type": "markdown",
   "metadata": {},
   "source": [
    "_______________\n",
    "_{'algo__min_samples_leaf': 41, 'algo__max_depth': 85, 'algo__class_weight': {0: 0.1, 1: 0.9}}_\n",
    "_______________"
   ]
  },
  {
   "cell_type": "code",
   "execution_count": 114,
   "metadata": {},
   "outputs": [],
   "source": [
    "pipe_DT_1 = Pipeline([\n",
    "    ('prep', preprocessor),\n",
    "    ('algo', DecisionTreeClassifier(min_samples_leaf=41, max_depth=85, class_weight={0:0.1, 1 : 0.9}, random_state=42))\n",
    "])"
   ]
  },
  {
   "cell_type": "code",
   "execution_count": 115,
   "metadata": {},
   "outputs": [
    {
     "data": {
      "text/plain": [
       "Pipeline(steps=[('prep',\n",
       "                 ColumnTransformer(transformers=[('numeric',\n",
       "                                                  Pipeline(steps=[('poly',\n",
       "                                                                   PolynomialFeatures(include_bias=False)),\n",
       "                                                                  ('power',\n",
       "                                                                   PowerTransformer())]),\n",
       "                                                  ['X1', 'X5', 'meanX12X17',\n",
       "                                                   'meanX18X23']),\n",
       "                                                 ('categorical',\n",
       "                                                  Pipeline(steps=[('encoder',\n",
       "                                                                   OneHotEncoder())]),\n",
       "                                                  ['X2', 'X3', 'X4',\n",
       "                                                   'Rec_modeX6X11'])])),\n",
       "                ('algo',\n",
       "                 DecisionTreeClassifier(class_weight={0: 0.1, 1: 0.9},\n",
       "                                        max_depth=85, min_samples_leaf=41,\n",
       "                                        random_state=42))])"
      ]
     },
     "execution_count": 115,
     "metadata": {},
     "output_type": "execute_result"
    }
   ],
   "source": [
    "pipe_DT_1.fit(X_train, y_train)"
   ]
  },
  {
   "cell_type": "code",
   "execution_count": 116,
   "metadata": {},
   "outputs": [
    {
     "name": "stdout",
     "output_type": "stream",
     "text": [
      "Classification report data test DT 1\n",
      "\n",
      "               precision    recall  f1-score   support\n",
      "\n",
      "           0       0.87      0.38      0.53      4673\n",
      "           1       0.27      0.81      0.40      1327\n",
      "\n",
      "    accuracy                           0.47      6000\n",
      "   macro avg       0.57      0.59      0.47      6000\n",
      "weighted avg       0.74      0.47      0.50      6000\n",
      "\n",
      "Classification report data train DT 1\n",
      "\n",
      "               precision    recall  f1-score   support\n",
      "\n",
      "           0       0.96      0.41      0.57     18691\n",
      "           1       0.31      0.94      0.47      5309\n",
      "\n",
      "    accuracy                           0.53     24000\n",
      "   macro avg       0.63      0.67      0.52     24000\n",
      "weighted avg       0.82      0.53      0.55     24000\n",
      "\n",
      "Confusion matrix data test DT 1\n",
      "\n"
     ]
    },
    {
     "data": {
      "text/html": [
       "<div>\n",
       "<style scoped>\n",
       "    .dataframe tbody tr th:only-of-type {\n",
       "        vertical-align: middle;\n",
       "    }\n",
       "\n",
       "    .dataframe tbody tr th {\n",
       "        vertical-align: top;\n",
       "    }\n",
       "\n",
       "    .dataframe thead th {\n",
       "        text-align: right;\n",
       "    }\n",
       "</style>\n",
       "<table border=\"1\" class=\"dataframe\">\n",
       "  <thead>\n",
       "    <tr style=\"text-align: right;\">\n",
       "      <th></th>\n",
       "      <th>Pred1</th>\n",
       "      <th>Pred0</th>\n",
       "    </tr>\n",
       "  </thead>\n",
       "  <tbody>\n",
       "    <tr>\n",
       "      <th>Akt1</th>\n",
       "      <td>1069</td>\n",
       "      <td>258</td>\n",
       "    </tr>\n",
       "    <tr>\n",
       "      <th>Akt0</th>\n",
       "      <td>2899</td>\n",
       "      <td>1774</td>\n",
       "    </tr>\n",
       "  </tbody>\n",
       "</table>\n",
       "</div>"
      ],
      "text/plain": [
       "      Pred1  Pred0\n",
       "Akt1   1069    258\n",
       "Akt0   2899   1774"
      ]
     },
     "execution_count": 116,
     "metadata": {},
     "output_type": "execute_result"
    }
   ],
   "source": [
    "conf_mat(pipe_DT_1, X_train, X_test, y_train, y_test, 'DT 1')"
   ]
  },
  {
   "cell_type": "markdown",
   "metadata": {},
   "source": [
    "__Penjelasan Eva Matrix__ :\n",
    "\n",
    "Dapat dilihat bahwa False Negatif sedikit bertambah dengan recall yang berkurang, tetapi False postif jauh berkurang. cukup"
   ]
  },
  {
   "cell_type": "markdown",
   "metadata": {},
   "source": [
    "========================\n",
    "\n",
    "__RF__\n",
    "\n",
    "========================"
   ]
  },
  {
   "cell_type": "code",
   "execution_count": 117,
   "metadata": {},
   "outputs": [],
   "source": [
    "param_RF = {\n",
    "    'algo__n_estimators' : np.arange(100, 1000, 100),\n",
    "    'algo__max_depth' : np.arange(10, 100, 10),\n",
    "    'algo__min_samples_leaf' : np.arange(10, 100, 10),\n",
    "    'algo__class_weight' : [None, {0:.4, 1:.6}, {0:.3, 1:.7}, {0:.2, 1:.8}, {0:.15, 1: .85}, {0:.1, 1:.9}]\n",
    "}"
   ]
  },
  {
   "cell_type": "code",
   "execution_count": 118,
   "metadata": {},
   "outputs": [],
   "source": [
    "RF_RS = RandomizedSearchCV(pipe_RF, param_RF, cv=skf, n_iter=100, n_jobs=-1, verbose=1, random_state=42, scoring='recall')"
   ]
  },
  {
   "cell_type": "code",
   "execution_count": 119,
   "metadata": {},
   "outputs": [
    {
     "name": "stdout",
     "output_type": "stream",
     "text": [
      "Fitting 3 folds for each of 100 candidates, totalling 300 fits\n"
     ]
    },
    {
     "name": "stderr",
     "output_type": "stream",
     "text": [
      "[Parallel(n_jobs=-1)]: Using backend LokyBackend with 8 concurrent workers.\n",
      "[Parallel(n_jobs=-1)]: Done  34 tasks      | elapsed:  2.3min\n",
      "[Parallel(n_jobs=-1)]: Done 184 tasks      | elapsed:  9.7min\n",
      "[Parallel(n_jobs=-1)]: Done 300 out of 300 | elapsed: 16.6min finished\n"
     ]
    },
    {
     "data": {
      "text/plain": [
       "RandomizedSearchCV(cv=StratifiedKFold(n_splits=3, random_state=None, shuffle=False),\n",
       "                   estimator=Pipeline(steps=[('prep',\n",
       "                                              ColumnTransformer(transformers=[('numeric',\n",
       "                                                                               Pipeline(steps=[('poly',\n",
       "                                                                                                PolynomialFeatures(include_bias=False)),\n",
       "                                                                                               ('power',\n",
       "                                                                                                PowerTransformer())]),\n",
       "                                                                               ['X1',\n",
       "                                                                                'X5',\n",
       "                                                                                'meanX12X17',\n",
       "                                                                                'meanX18X23']),\n",
       "                                                                              ('categorical',\n",
       "                                                                               Pipeline(steps=[('encoder',\n",
       "                                                                                                OneHotEncoder()...\n",
       "                   n_iter=100, n_jobs=-1,\n",
       "                   param_distributions={'algo__class_weight': [None,\n",
       "                                                               {0: 0.4, 1: 0.6},\n",
       "                                                               {0: 0.3, 1: 0.7},\n",
       "                                                               {0: 0.2, 1: 0.8},\n",
       "                                                               {0: 0.15,\n",
       "                                                                1: 0.85},\n",
       "                                                               {0: 0.1,\n",
       "                                                                1: 0.9}],\n",
       "                                        'algo__max_depth': array([10, 20, 30, 40, 50, 60, 70, 80, 90]),\n",
       "                                        'algo__min_samples_leaf': array([10, 20, 30, 40, 50, 60, 70, 80, 90]),\n",
       "                                        'algo__n_estimators': array([100, 200, 300, 400, 500, 600, 700, 800, 900])},\n",
       "                   random_state=42, scoring='recall', verbose=1)"
      ]
     },
     "execution_count": 119,
     "metadata": {},
     "output_type": "execute_result"
    }
   ],
   "source": [
    "RF_RS.fit(X_train, y_train)"
   ]
  },
  {
   "cell_type": "code",
   "execution_count": 120,
   "metadata": {},
   "outputs": [
    {
     "data": {
      "text/plain": [
       "{'algo__n_estimators': 900,\n",
       " 'algo__min_samples_leaf': 90,\n",
       " 'algo__max_depth': 20,\n",
       " 'algo__class_weight': {0: 0.1, 1: 0.9}}"
      ]
     },
     "execution_count": 120,
     "metadata": {},
     "output_type": "execute_result"
    }
   ],
   "source": [
    "RF_RS.best_params_"
   ]
  },
  {
   "cell_type": "code",
   "execution_count": 122,
   "metadata": {},
   "outputs": [
    {
     "data": {
      "text/html": [
       "<div>\n",
       "<style scoped>\n",
       "    .dataframe tbody tr th:only-of-type {\n",
       "        vertical-align: middle;\n",
       "    }\n",
       "\n",
       "    .dataframe tbody tr th {\n",
       "        vertical-align: top;\n",
       "    }\n",
       "\n",
       "    .dataframe thead th {\n",
       "        text-align: right;\n",
       "    }\n",
       "</style>\n",
       "<table border=\"1\" class=\"dataframe\">\n",
       "  <thead>\n",
       "    <tr style=\"text-align: right;\">\n",
       "      <th></th>\n",
       "      <th>param_algo__n_estimators</th>\n",
       "      <th>param_algo__min_samples_leaf</th>\n",
       "      <th>param_algo__max_depth</th>\n",
       "      <th>param_algo__class_weight</th>\n",
       "      <th>mean_test_score</th>\n",
       "    </tr>\n",
       "  </thead>\n",
       "  <tbody>\n",
       "    <tr>\n",
       "      <th>10</th>\n",
       "      <td>900</td>\n",
       "      <td>40</td>\n",
       "      <td>60</td>\n",
       "      <td>{0: 0.1, 1: 0.9}</td>\n",
       "      <td>0.887172</td>\n",
       "    </tr>\n",
       "    <tr>\n",
       "      <th>11</th>\n",
       "      <td>600</td>\n",
       "      <td>40</td>\n",
       "      <td>60</td>\n",
       "      <td>{0: 0.1, 1: 0.9}</td>\n",
       "      <td>0.886795</td>\n",
       "    </tr>\n",
       "    <tr>\n",
       "      <th>12</th>\n",
       "      <td>200</td>\n",
       "      <td>30</td>\n",
       "      <td>30</td>\n",
       "      <td>{0: 0.1, 1: 0.9}</td>\n",
       "      <td>0.865134</td>\n",
       "    </tr>\n",
       "    <tr>\n",
       "      <th>13</th>\n",
       "      <td>600</td>\n",
       "      <td>30</td>\n",
       "      <td>50</td>\n",
       "      <td>{0: 0.1, 1: 0.9}</td>\n",
       "      <td>0.864381</td>\n",
       "    </tr>\n",
       "    <tr>\n",
       "      <th>14</th>\n",
       "      <td>500</td>\n",
       "      <td>90</td>\n",
       "      <td>10</td>\n",
       "      <td>{0: 0.15, 1: 0.85}</td>\n",
       "      <td>0.827088</td>\n",
       "    </tr>\n",
       "    <tr>\n",
       "      <th>15</th>\n",
       "      <td>200</td>\n",
       "      <td>90</td>\n",
       "      <td>10</td>\n",
       "      <td>{0: 0.15, 1: 0.85}</td>\n",
       "      <td>0.827087</td>\n",
       "    </tr>\n",
       "    <tr>\n",
       "      <th>16</th>\n",
       "      <td>200</td>\n",
       "      <td>90</td>\n",
       "      <td>70</td>\n",
       "      <td>{0: 0.15, 1: 0.85}</td>\n",
       "      <td>0.826522</td>\n",
       "    </tr>\n",
       "    <tr>\n",
       "      <th>17</th>\n",
       "      <td>600</td>\n",
       "      <td>90</td>\n",
       "      <td>20</td>\n",
       "      <td>{0: 0.15, 1: 0.85}</td>\n",
       "      <td>0.824827</td>\n",
       "    </tr>\n",
       "    <tr>\n",
       "      <th>18</th>\n",
       "      <td>800</td>\n",
       "      <td>20</td>\n",
       "      <td>70</td>\n",
       "      <td>{0: 0.1, 1: 0.9}</td>\n",
       "      <td>0.813526</td>\n",
       "    </tr>\n",
       "    <tr>\n",
       "      <th>19</th>\n",
       "      <td>800</td>\n",
       "      <td>70</td>\n",
       "      <td>90</td>\n",
       "      <td>{0: 0.15, 1: 0.85}</td>\n",
       "      <td>0.811453</td>\n",
       "    </tr>\n",
       "    <tr>\n",
       "      <th>20</th>\n",
       "      <td>500</td>\n",
       "      <td>60</td>\n",
       "      <td>70</td>\n",
       "      <td>{0: 0.15, 1: 0.85}</td>\n",
       "      <td>0.800153</td>\n",
       "    </tr>\n",
       "    <tr>\n",
       "      <th>21</th>\n",
       "      <td>300</td>\n",
       "      <td>60</td>\n",
       "      <td>80</td>\n",
       "      <td>{0: 0.15, 1: 0.85}</td>\n",
       "      <td>0.798269</td>\n",
       "    </tr>\n",
       "    <tr>\n",
       "      <th>22</th>\n",
       "      <td>200</td>\n",
       "      <td>50</td>\n",
       "      <td>30</td>\n",
       "      <td>{0: 0.15, 1: 0.85}</td>\n",
       "      <td>0.790546</td>\n",
       "    </tr>\n",
       "    <tr>\n",
       "      <th>23</th>\n",
       "      <td>100</td>\n",
       "      <td>50</td>\n",
       "      <td>60</td>\n",
       "      <td>{0: 0.15, 1: 0.85}</td>\n",
       "      <td>0.788098</td>\n",
       "    </tr>\n",
       "    <tr>\n",
       "      <th>24</th>\n",
       "      <td>400</td>\n",
       "      <td>50</td>\n",
       "      <td>70</td>\n",
       "      <td>{0: 0.15, 1: 0.85}</td>\n",
       "      <td>0.787532</td>\n",
       "    </tr>\n",
       "    <tr>\n",
       "      <th>25</th>\n",
       "      <td>900</td>\n",
       "      <td>50</td>\n",
       "      <td>20</td>\n",
       "      <td>{0: 0.15, 1: 0.85}</td>\n",
       "      <td>0.785837</td>\n",
       "    </tr>\n",
       "    <tr>\n",
       "      <th>26</th>\n",
       "      <td>700</td>\n",
       "      <td>40</td>\n",
       "      <td>40</td>\n",
       "      <td>{0: 0.15, 1: 0.85}</td>\n",
       "      <td>0.766813</td>\n",
       "    </tr>\n",
       "    <tr>\n",
       "      <th>27</th>\n",
       "      <td>500</td>\n",
       "      <td>30</td>\n",
       "      <td>50</td>\n",
       "      <td>{0: 0.15, 1: 0.85}</td>\n",
       "      <td>0.735545</td>\n",
       "    </tr>\n",
       "    <tr>\n",
       "      <th>28</th>\n",
       "      <td>800</td>\n",
       "      <td>30</td>\n",
       "      <td>30</td>\n",
       "      <td>{0: 0.15, 1: 0.85}</td>\n",
       "      <td>0.735168</td>\n",
       "    </tr>\n",
       "  </tbody>\n",
       "</table>\n",
       "</div>"
      ],
      "text/plain": [
       "   param_algo__n_estimators param_algo__min_samples_leaf  \\\n",
       "10                      900                           40   \n",
       "11                      600                           40   \n",
       "12                      200                           30   \n",
       "13                      600                           30   \n",
       "14                      500                           90   \n",
       "15                      200                           90   \n",
       "16                      200                           90   \n",
       "17                      600                           90   \n",
       "18                      800                           20   \n",
       "19                      800                           70   \n",
       "20                      500                           60   \n",
       "21                      300                           60   \n",
       "22                      200                           50   \n",
       "23                      100                           50   \n",
       "24                      400                           50   \n",
       "25                      900                           50   \n",
       "26                      700                           40   \n",
       "27                      500                           30   \n",
       "28                      800                           30   \n",
       "\n",
       "   param_algo__max_depth param_algo__class_weight  mean_test_score  \n",
       "10                    60         {0: 0.1, 1: 0.9}         0.887172  \n",
       "11                    60         {0: 0.1, 1: 0.9}         0.886795  \n",
       "12                    30         {0: 0.1, 1: 0.9}         0.865134  \n",
       "13                    50         {0: 0.1, 1: 0.9}         0.864381  \n",
       "14                    10       {0: 0.15, 1: 0.85}         0.827088  \n",
       "15                    10       {0: 0.15, 1: 0.85}         0.827087  \n",
       "16                    70       {0: 0.15, 1: 0.85}         0.826522  \n",
       "17                    20       {0: 0.15, 1: 0.85}         0.824827  \n",
       "18                    70         {0: 0.1, 1: 0.9}         0.813526  \n",
       "19                    90       {0: 0.15, 1: 0.85}         0.811453  \n",
       "20                    70       {0: 0.15, 1: 0.85}         0.800153  \n",
       "21                    80       {0: 0.15, 1: 0.85}         0.798269  \n",
       "22                    30       {0: 0.15, 1: 0.85}         0.790546  \n",
       "23                    60       {0: 0.15, 1: 0.85}         0.788098  \n",
       "24                    70       {0: 0.15, 1: 0.85}         0.787532  \n",
       "25                    20       {0: 0.15, 1: 0.85}         0.785837  \n",
       "26                    40       {0: 0.15, 1: 0.85}         0.766813  \n",
       "27                    50       {0: 0.15, 1: 0.85}         0.735545  \n",
       "28                    30       {0: 0.15, 1: 0.85}         0.735168  "
      ]
     },
     "execution_count": 122,
     "metadata": {},
     "output_type": "execute_result"
    }
   ],
   "source": [
    "tab_hyper_RF = pd.DataFrame(RF_RS.cv_results_)[['param_algo__n_estimators', 'param_algo__min_samples_leaf', 'param_algo__max_depth', 'param_algo__class_weight', 'mean_test_score']]\n",
    "tab_hyper_RF = (tab_hyper_RF.sort_values(by='mean_test_score', ascending=False).reset_index()).drop(columns='index')\n",
    "tab_hyper_RF[tab_hyper_RF['mean_test_score'] > 0.7].loc[10:35]"
   ]
  },
  {
   "cell_type": "markdown",
   "metadata": {},
   "source": [
    "______________\n",
    "_UNTUK yng best estimator_\n",
    "_____________"
   ]
  },
  {
   "cell_type": "code",
   "execution_count": 123,
   "metadata": {},
   "outputs": [],
   "source": [
    "RF_tune = RF_RS.best_estimator_"
   ]
  },
  {
   "cell_type": "code",
   "execution_count": 124,
   "metadata": {},
   "outputs": [
    {
     "data": {
      "text/plain": [
       "Pipeline(steps=[('prep',\n",
       "                 ColumnTransformer(transformers=[('numeric',\n",
       "                                                  Pipeline(steps=[('poly',\n",
       "                                                                   PolynomialFeatures(include_bias=False)),\n",
       "                                                                  ('power',\n",
       "                                                                   PowerTransformer())]),\n",
       "                                                  ['X1', 'X5', 'meanX12X17',\n",
       "                                                   'meanX18X23']),\n",
       "                                                 ('categorical',\n",
       "                                                  Pipeline(steps=[('encoder',\n",
       "                                                                   OneHotEncoder())]),\n",
       "                                                  ['X2', 'X3', 'X4',\n",
       "                                                   'Rec_modeX6X11'])])),\n",
       "                ('algo',\n",
       "                 RandomForestClassifier(class_weight={0: 0.1, 1: 0.9},\n",
       "                                        max_depth=20, min_samples_leaf=90,\n",
       "                                        n_estimators=900, random_state=42))])"
      ]
     },
     "execution_count": 124,
     "metadata": {},
     "output_type": "execute_result"
    }
   ],
   "source": [
    "RF_tune.fit(X_train, y_train)"
   ]
  },
  {
   "cell_type": "code",
   "execution_count": 125,
   "metadata": {},
   "outputs": [
    {
     "name": "stdout",
     "output_type": "stream",
     "text": [
      "Classification report data test RF Tuned\n",
      "\n",
      "               precision    recall  f1-score   support\n",
      "\n",
      "           0       0.92      0.23      0.36      4673\n",
      "           1       0.25      0.93      0.40      1327\n",
      "\n",
      "    accuracy                           0.38      6000\n",
      "   macro avg       0.59      0.58      0.38      6000\n",
      "weighted avg       0.77      0.38      0.37      6000\n",
      "\n",
      "Classification report data train RF Tuned\n",
      "\n",
      "               precision    recall  f1-score   support\n",
      "\n",
      "           0       0.95      0.24      0.39     18691\n",
      "           1       0.26      0.96      0.41      5309\n",
      "\n",
      "    accuracy                           0.40     24000\n",
      "   macro avg       0.61      0.60      0.40     24000\n",
      "weighted avg       0.80      0.40      0.40     24000\n",
      "\n",
      "Confusion matrix data test RF Tuned\n",
      "\n"
     ]
    },
    {
     "data": {
      "text/html": [
       "<div>\n",
       "<style scoped>\n",
       "    .dataframe tbody tr th:only-of-type {\n",
       "        vertical-align: middle;\n",
       "    }\n",
       "\n",
       "    .dataframe tbody tr th {\n",
       "        vertical-align: top;\n",
       "    }\n",
       "\n",
       "    .dataframe thead th {\n",
       "        text-align: right;\n",
       "    }\n",
       "</style>\n",
       "<table border=\"1\" class=\"dataframe\">\n",
       "  <thead>\n",
       "    <tr style=\"text-align: right;\">\n",
       "      <th></th>\n",
       "      <th>Pred1</th>\n",
       "      <th>Pred0</th>\n",
       "    </tr>\n",
       "  </thead>\n",
       "  <tbody>\n",
       "    <tr>\n",
       "      <th>Akt1</th>\n",
       "      <td>1238</td>\n",
       "      <td>89</td>\n",
       "    </tr>\n",
       "    <tr>\n",
       "      <th>Akt0</th>\n",
       "      <td>3621</td>\n",
       "      <td>1052</td>\n",
       "    </tr>\n",
       "  </tbody>\n",
       "</table>\n",
       "</div>"
      ],
      "text/plain": [
       "      Pred1  Pred0\n",
       "Akt1   1238     89\n",
       "Akt0   3621   1052"
      ]
     },
     "execution_count": 125,
     "metadata": {},
     "output_type": "execute_result"
    }
   ],
   "source": [
    "conf_mat(RF_tune, X_train, X_test, y_train, y_test, 'RF Tuned')"
   ]
  },
  {
   "cell_type": "markdown",
   "metadata": {},
   "source": [
    "__Penjelasan Eva Matrix__ :\n",
    "\n",
    "Dapat dilihat bahwa False Negatif berkurang diiring dengan recall yang naik, tetapi False postif kelewat batas jd coba dicari lagi kombinasi yang tepat"
   ]
  },
  {
   "cell_type": "markdown",
   "metadata": {},
   "source": [
    "______________\n",
    "_{'n_estimators': 700,\n",
    " 'min_samples_leaf': 40,\n",
    " 'max_depth': 40,\n",
    " 'class_weight': {0: 0.15, 1: 0.85}}_\n",
    "_____________"
   ]
  },
  {
   "cell_type": "code",
   "execution_count": 126,
   "metadata": {},
   "outputs": [],
   "source": [
    "pipe_RF_1 = Pipeline([\n",
    "    ('prep', preprocessor),\n",
    "    ('algo', RandomForestClassifier(n_estimators=700, min_samples_leaf=40, max_depth=40, class_weight={0:0.15, 1 : 0.85}, random_state=42))\n",
    "])"
   ]
  },
  {
   "cell_type": "code",
   "execution_count": 127,
   "metadata": {},
   "outputs": [
    {
     "data": {
      "text/plain": [
       "Pipeline(steps=[('prep',\n",
       "                 ColumnTransformer(transformers=[('numeric',\n",
       "                                                  Pipeline(steps=[('poly',\n",
       "                                                                   PolynomialFeatures(include_bias=False)),\n",
       "                                                                  ('power',\n",
       "                                                                   PowerTransformer())]),\n",
       "                                                  ['X1', 'X5', 'meanX12X17',\n",
       "                                                   'meanX18X23']),\n",
       "                                                 ('categorical',\n",
       "                                                  Pipeline(steps=[('encoder',\n",
       "                                                                   OneHotEncoder())]),\n",
       "                                                  ['X2', 'X3', 'X4',\n",
       "                                                   'Rec_modeX6X11'])])),\n",
       "                ('algo',\n",
       "                 RandomForestClassifier(class_weight={0: 0.15, 1: 0.85},\n",
       "                                        max_depth=40, min_samples_leaf=40,\n",
       "                                        n_estimators=700, random_state=42))])"
      ]
     },
     "execution_count": 127,
     "metadata": {},
     "output_type": "execute_result"
    }
   ],
   "source": [
    "pipe_RF_1.fit(X_train, y_train)"
   ]
  },
  {
   "cell_type": "code",
   "execution_count": 128,
   "metadata": {},
   "outputs": [
    {
     "name": "stdout",
     "output_type": "stream",
     "text": [
      "Classification report data test RF 1\n",
      "\n",
      "               precision    recall  f1-score   support\n",
      "\n",
      "           0       0.89      0.51      0.65      4673\n",
      "           1       0.31      0.77      0.44      1327\n",
      "\n",
      "    accuracy                           0.57      6000\n",
      "   macro avg       0.60      0.64      0.55      6000\n",
      "weighted avg       0.76      0.57      0.60      6000\n",
      "\n",
      "Classification report data train RF 1\n",
      "\n",
      "               precision    recall  f1-score   support\n",
      "\n",
      "           0       0.93      0.54      0.69     18691\n",
      "           1       0.35      0.86      0.50      5309\n",
      "\n",
      "    accuracy                           0.61     24000\n",
      "   macro avg       0.64      0.70      0.59     24000\n",
      "weighted avg       0.80      0.61      0.65     24000\n",
      "\n",
      "Confusion matrix data test RF 1\n",
      "\n"
     ]
    },
    {
     "data": {
      "text/html": [
       "<div>\n",
       "<style scoped>\n",
       "    .dataframe tbody tr th:only-of-type {\n",
       "        vertical-align: middle;\n",
       "    }\n",
       "\n",
       "    .dataframe tbody tr th {\n",
       "        vertical-align: top;\n",
       "    }\n",
       "\n",
       "    .dataframe thead th {\n",
       "        text-align: right;\n",
       "    }\n",
       "</style>\n",
       "<table border=\"1\" class=\"dataframe\">\n",
       "  <thead>\n",
       "    <tr style=\"text-align: right;\">\n",
       "      <th></th>\n",
       "      <th>Pred1</th>\n",
       "      <th>Pred0</th>\n",
       "    </tr>\n",
       "  </thead>\n",
       "  <tbody>\n",
       "    <tr>\n",
       "      <th>Akt1</th>\n",
       "      <td>1020</td>\n",
       "      <td>307</td>\n",
       "    </tr>\n",
       "    <tr>\n",
       "      <th>Akt0</th>\n",
       "      <td>2272</td>\n",
       "      <td>2401</td>\n",
       "    </tr>\n",
       "  </tbody>\n",
       "</table>\n",
       "</div>"
      ],
      "text/plain": [
       "      Pred1  Pred0\n",
       "Akt1   1020    307\n",
       "Akt0   2272   2401"
      ]
     },
     "execution_count": 128,
     "metadata": {},
     "output_type": "execute_result"
    }
   ],
   "source": [
    "conf_mat(pipe_RF_1, X_train, X_test, y_train, y_test, 'RF 1')"
   ]
  },
  {
   "cell_type": "markdown",
   "metadata": {},
   "source": [
    "__Penjelasan Eva Matrix__ :\n",
    "\n",
    "Dapat dilihat bahwa False Negatif sedikit bertambah dengan recall yang berkurang, tetapi False postif jauh berkurang. cukup"
   ]
  },
  {
   "cell_type": "markdown",
   "metadata": {},
   "source": [
    "========================\n",
    "\n",
    "__SVM__\n",
    "\n",
    "========================"
   ]
  },
  {
   "cell_type": "code",
   "execution_count": 129,
   "metadata": {},
   "outputs": [],
   "source": [
    "param_SVM = {\n",
    "    'algo__C' : np.arange(0, 10, 1),\n",
    "    'algo__kernel' : ['linear', 'poly', 'rbf'],\n",
    "    'algo__gamma' : [0.001, 0.01, 0.05, 0.1, 0.5, 1, 'scale']\n",
    "}"
   ]
  },
  {
   "cell_type": "code",
   "execution_count": 130,
   "metadata": {},
   "outputs": [],
   "source": [
    "SVM_RS = RandomizedSearchCV(pipe_SVM, param_SVM, cv=skf, n_iter=100, n_jobs=-1, verbose=1, random_state=42, scoring='recall')"
   ]
  },
  {
   "cell_type": "code",
   "execution_count": 132,
   "metadata": {},
   "outputs": [
    {
     "name": "stdout",
     "output_type": "stream",
     "text": [
      "Fitting 3 folds for each of 100 candidates, totalling 300 fits\n"
     ]
    },
    {
     "name": "stderr",
     "output_type": "stream",
     "text": [
      "[Parallel(n_jobs=-1)]: Using backend LokyBackend with 8 concurrent workers.\n",
      "[Parallel(n_jobs=-1)]: Done  34 tasks      | elapsed:   14.2s\n",
      "[Parallel(n_jobs=-1)]: Done 184 tasks      | elapsed:   54.0s\n",
      "[Parallel(n_jobs=-1)]: Done 300 out of 300 | elapsed:  1.5min finished\n"
     ]
    },
    {
     "data": {
      "text/plain": [
       "RandomizedSearchCV(cv=StratifiedKFold(n_splits=3, random_state=None, shuffle=False),\n",
       "                   estimator=Pipeline(steps=[('prep',\n",
       "                                              ColumnTransformer(transformers=[('numeric',\n",
       "                                                                               Pipeline(steps=[('poly',\n",
       "                                                                                                PolynomialFeatures(include_bias=False)),\n",
       "                                                                                               ('power',\n",
       "                                                                                                PowerTransformer())]),\n",
       "                                                                               ['X1',\n",
       "                                                                                'X5',\n",
       "                                                                                'meanX12X17',\n",
       "                                                                                'meanX18X23']),\n",
       "                                                                              ('categorical',\n",
       "                                                                               Pipeline(steps=[('encoder',\n",
       "                                                                                                OneHotEncoder())]),\n",
       "                                                                               ['X2',\n",
       "                                                                                'X3',\n",
       "                                                                                'X4',\n",
       "                                                                                'Rec_modeX6X11'])])),\n",
       "                                             ('algo', SVC(max_iter=500))]),\n",
       "                   n_iter=100, n_jobs=-1,\n",
       "                   param_distributions={'algo__C': array([0, 1, 2, 3, 4, 5, 6, 7, 8, 9]),\n",
       "                                        'algo__gamma': [0.001, 0.01, 0.05, 0.1,\n",
       "                                                        0.5, 1, 'scale'],\n",
       "                                        'algo__kernel': ['linear', 'poly',\n",
       "                                                         'rbf']},\n",
       "                   random_state=42, scoring='recall', verbose=1)"
      ]
     },
     "execution_count": 132,
     "metadata": {},
     "output_type": "execute_result"
    }
   ],
   "source": [
    "SVM_RS.fit(X_train, y_train)"
   ]
  },
  {
   "cell_type": "code",
   "execution_count": 133,
   "metadata": {},
   "outputs": [
    {
     "data": {
      "text/plain": [
       "{'algo__kernel': 'poly', 'algo__gamma': 0.01, 'algo__C': 8}"
      ]
     },
     "execution_count": 133,
     "metadata": {},
     "output_type": "execute_result"
    }
   ],
   "source": [
    "SVM_RS.best_params_"
   ]
  },
  {
   "cell_type": "code",
   "execution_count": 144,
   "metadata": {},
   "outputs": [
    {
     "data": {
      "text/html": [
       "<div>\n",
       "<style scoped>\n",
       "    .dataframe tbody tr th:only-of-type {\n",
       "        vertical-align: middle;\n",
       "    }\n",
       "\n",
       "    .dataframe tbody tr th {\n",
       "        vertical-align: top;\n",
       "    }\n",
       "\n",
       "    .dataframe thead th {\n",
       "        text-align: right;\n",
       "    }\n",
       "</style>\n",
       "<table border=\"1\" class=\"dataframe\">\n",
       "  <thead>\n",
       "    <tr style=\"text-align: right;\">\n",
       "      <th></th>\n",
       "      <th>param_algo__C</th>\n",
       "      <th>param_algo__kernel</th>\n",
       "      <th>param_algo__gamma</th>\n",
       "      <th>mean_test_score</th>\n",
       "    </tr>\n",
       "  </thead>\n",
       "  <tbody>\n",
       "    <tr>\n",
       "      <th>34</th>\n",
       "      <td>3</td>\n",
       "      <td>rbf</td>\n",
       "      <td>0.01</td>\n",
       "      <td>0.796940</td>\n",
       "    </tr>\n",
       "    <tr>\n",
       "      <th>35</th>\n",
       "      <td>1</td>\n",
       "      <td>linear</td>\n",
       "      <td>1</td>\n",
       "      <td>0.756070</td>\n",
       "    </tr>\n",
       "    <tr>\n",
       "      <th>36</th>\n",
       "      <td>1</td>\n",
       "      <td>linear</td>\n",
       "      <td>0.1</td>\n",
       "      <td>0.756070</td>\n",
       "    </tr>\n",
       "    <tr>\n",
       "      <th>37</th>\n",
       "      <td>1</td>\n",
       "      <td>linear</td>\n",
       "      <td>0.01</td>\n",
       "      <td>0.756070</td>\n",
       "    </tr>\n",
       "    <tr>\n",
       "      <th>38</th>\n",
       "      <td>5</td>\n",
       "      <td>linear</td>\n",
       "      <td>0.01</td>\n",
       "      <td>0.698764</td>\n",
       "    </tr>\n",
       "    <tr>\n",
       "      <th>39</th>\n",
       "      <td>5</td>\n",
       "      <td>linear</td>\n",
       "      <td>0.5</td>\n",
       "      <td>0.698764</td>\n",
       "    </tr>\n",
       "    <tr>\n",
       "      <th>40</th>\n",
       "      <td>6</td>\n",
       "      <td>poly</td>\n",
       "      <td>0.5</td>\n",
       "      <td>0.692835</td>\n",
       "    </tr>\n",
       "    <tr>\n",
       "      <th>41</th>\n",
       "      <td>7</td>\n",
       "      <td>linear</td>\n",
       "      <td>0.5</td>\n",
       "      <td>0.678100</td>\n",
       "    </tr>\n",
       "    <tr>\n",
       "      <th>42</th>\n",
       "      <td>7</td>\n",
       "      <td>linear</td>\n",
       "      <td>scale</td>\n",
       "      <td>0.678100</td>\n",
       "    </tr>\n",
       "    <tr>\n",
       "      <th>43</th>\n",
       "      <td>7</td>\n",
       "      <td>linear</td>\n",
       "      <td>0.001</td>\n",
       "      <td>0.678100</td>\n",
       "    </tr>\n",
       "    <tr>\n",
       "      <th>44</th>\n",
       "      <td>7</td>\n",
       "      <td>linear</td>\n",
       "      <td>0.01</td>\n",
       "      <td>0.678100</td>\n",
       "    </tr>\n",
       "    <tr>\n",
       "      <th>45</th>\n",
       "      <td>7</td>\n",
       "      <td>linear</td>\n",
       "      <td>0.1</td>\n",
       "      <td>0.678100</td>\n",
       "    </tr>\n",
       "    <tr>\n",
       "      <th>46</th>\n",
       "      <td>7</td>\n",
       "      <td>linear</td>\n",
       "      <td>1</td>\n",
       "      <td>0.678100</td>\n",
       "    </tr>\n",
       "    <tr>\n",
       "      <th>47</th>\n",
       "      <td>2</td>\n",
       "      <td>poly</td>\n",
       "      <td>scale</td>\n",
       "      <td>0.664596</td>\n",
       "    </tr>\n",
       "    <tr>\n",
       "      <th>48</th>\n",
       "      <td>2</td>\n",
       "      <td>linear</td>\n",
       "      <td>0.1</td>\n",
       "      <td>0.645330</td>\n",
       "    </tr>\n",
       "    <tr>\n",
       "      <th>49</th>\n",
       "      <td>2</td>\n",
       "      <td>linear</td>\n",
       "      <td>scale</td>\n",
       "      <td>0.645330</td>\n",
       "    </tr>\n",
       "    <tr>\n",
       "      <th>50</th>\n",
       "      <td>2</td>\n",
       "      <td>linear</td>\n",
       "      <td>0.01</td>\n",
       "      <td>0.645330</td>\n",
       "    </tr>\n",
       "    <tr>\n",
       "      <th>51</th>\n",
       "      <td>2</td>\n",
       "      <td>linear</td>\n",
       "      <td>0.001</td>\n",
       "      <td>0.645330</td>\n",
       "    </tr>\n",
       "    <tr>\n",
       "      <th>52</th>\n",
       "      <td>3</td>\n",
       "      <td>linear</td>\n",
       "      <td>0.05</td>\n",
       "      <td>0.630219</td>\n",
       "    </tr>\n",
       "    <tr>\n",
       "      <th>53</th>\n",
       "      <td>3</td>\n",
       "      <td>linear</td>\n",
       "      <td>0.01</td>\n",
       "      <td>0.630219</td>\n",
       "    </tr>\n",
       "    <tr>\n",
       "      <th>54</th>\n",
       "      <td>3</td>\n",
       "      <td>linear</td>\n",
       "      <td>1</td>\n",
       "      <td>0.630219</td>\n",
       "    </tr>\n",
       "    <tr>\n",
       "      <th>55</th>\n",
       "      <td>3</td>\n",
       "      <td>linear</td>\n",
       "      <td>0.5</td>\n",
       "      <td>0.630219</td>\n",
       "    </tr>\n",
       "    <tr>\n",
       "      <th>56</th>\n",
       "      <td>6</td>\n",
       "      <td>linear</td>\n",
       "      <td>1</td>\n",
       "      <td>0.624970</td>\n",
       "    </tr>\n",
       "    <tr>\n",
       "      <th>57</th>\n",
       "      <td>6</td>\n",
       "      <td>linear</td>\n",
       "      <td>0.001</td>\n",
       "      <td>0.624970</td>\n",
       "    </tr>\n",
       "    <tr>\n",
       "      <th>58</th>\n",
       "      <td>6</td>\n",
       "      <td>linear</td>\n",
       "      <td>0.5</td>\n",
       "      <td>0.624970</td>\n",
       "    </tr>\n",
       "    <tr>\n",
       "      <th>59</th>\n",
       "      <td>6</td>\n",
       "      <td>linear</td>\n",
       "      <td>0.1</td>\n",
       "      <td>0.624970</td>\n",
       "    </tr>\n",
       "    <tr>\n",
       "      <th>60</th>\n",
       "      <td>6</td>\n",
       "      <td>linear</td>\n",
       "      <td>0.05</td>\n",
       "      <td>0.624970</td>\n",
       "    </tr>\n",
       "    <tr>\n",
       "      <th>61</th>\n",
       "      <td>3</td>\n",
       "      <td>poly</td>\n",
       "      <td>1</td>\n",
       "      <td>0.619389</td>\n",
       "    </tr>\n",
       "  </tbody>\n",
       "</table>\n",
       "</div>"
      ],
      "text/plain": [
       "   param_algo__C param_algo__kernel param_algo__gamma  mean_test_score\n",
       "34             3                rbf              0.01         0.796940\n",
       "35             1             linear                 1         0.756070\n",
       "36             1             linear               0.1         0.756070\n",
       "37             1             linear              0.01         0.756070\n",
       "38             5             linear              0.01         0.698764\n",
       "39             5             linear               0.5         0.698764\n",
       "40             6               poly               0.5         0.692835\n",
       "41             7             linear               0.5         0.678100\n",
       "42             7             linear             scale         0.678100\n",
       "43             7             linear             0.001         0.678100\n",
       "44             7             linear              0.01         0.678100\n",
       "45             7             linear               0.1         0.678100\n",
       "46             7             linear                 1         0.678100\n",
       "47             2               poly             scale         0.664596\n",
       "48             2             linear               0.1         0.645330\n",
       "49             2             linear             scale         0.645330\n",
       "50             2             linear              0.01         0.645330\n",
       "51             2             linear             0.001         0.645330\n",
       "52             3             linear              0.05         0.630219\n",
       "53             3             linear              0.01         0.630219\n",
       "54             3             linear                 1         0.630219\n",
       "55             3             linear               0.5         0.630219\n",
       "56             6             linear                 1         0.624970\n",
       "57             6             linear             0.001         0.624970\n",
       "58             6             linear               0.5         0.624970\n",
       "59             6             linear               0.1         0.624970\n",
       "60             6             linear              0.05         0.624970\n",
       "61             3               poly                 1         0.619389"
      ]
     },
     "execution_count": 144,
     "metadata": {},
     "output_type": "execute_result"
    }
   ],
   "source": [
    "tab_hyper_SVM = pd.DataFrame(SVM_RS.cv_results_)[['param_algo__C', 'param_algo__kernel', 'param_algo__gamma', 'mean_test_score']]\n",
    "tab_hyper_SVM = (tab_hyper_SVM.sort_values(by='mean_test_score', ascending=False).reset_index()).drop(columns='index')\n",
    "tab_hyper_SVM[(tab_hyper_SVM['mean_test_score'] < 0.85) & (tab_hyper_SVM['mean_test_score'] > 0.6)]"
   ]
  },
  {
   "cell_type": "markdown",
   "metadata": {},
   "source": [
    "______________\n",
    "_UNTUK yng best estimator_\n",
    "_____________"
   ]
  },
  {
   "cell_type": "code",
   "execution_count": 135,
   "metadata": {},
   "outputs": [],
   "source": [
    "SVM_tune = SVM_RS.best_estimator_"
   ]
  },
  {
   "cell_type": "code",
   "execution_count": 136,
   "metadata": {},
   "outputs": [
    {
     "data": {
      "text/plain": [
       "Pipeline(steps=[('prep',\n",
       "                 ColumnTransformer(transformers=[('numeric',\n",
       "                                                  Pipeline(steps=[('poly',\n",
       "                                                                   PolynomialFeatures(include_bias=False)),\n",
       "                                                                  ('power',\n",
       "                                                                   PowerTransformer())]),\n",
       "                                                  ['X1', 'X5', 'meanX12X17',\n",
       "                                                   'meanX18X23']),\n",
       "                                                 ('categorical',\n",
       "                                                  Pipeline(steps=[('encoder',\n",
       "                                                                   OneHotEncoder())]),\n",
       "                                                  ['X2', 'X3', 'X4',\n",
       "                                                   'Rec_modeX6X11'])])),\n",
       "                ('algo', SVC(C=8, gamma=0.01, kernel='poly', max_iter=500))])"
      ]
     },
     "execution_count": 136,
     "metadata": {},
     "output_type": "execute_result"
    }
   ],
   "source": [
    "SVM_tune.fit(X_train, y_train)"
   ]
  },
  {
   "cell_type": "code",
   "execution_count": 137,
   "metadata": {},
   "outputs": [
    {
     "name": "stdout",
     "output_type": "stream",
     "text": [
      "Classification report data test SVM Tuned\n",
      "\n",
      "               precision    recall  f1-score   support\n",
      "\n",
      "           0       0.80      0.00      0.00      4673\n",
      "           1       0.22      1.00      0.36      1327\n",
      "\n",
      "    accuracy                           0.22      6000\n",
      "   macro avg       0.51      0.50      0.18      6000\n",
      "weighted avg       0.67      0.22      0.08      6000\n",
      "\n",
      "Classification report data train SVM Tuned\n",
      "\n",
      "               precision    recall  f1-score   support\n",
      "\n",
      "           0       0.64      0.00      0.00     18691\n",
      "           1       0.22      1.00      0.36      5309\n",
      "\n",
      "    accuracy                           0.22     24000\n",
      "   macro avg       0.43      0.50      0.18     24000\n",
      "weighted avg       0.55      0.22      0.08     24000\n",
      "\n",
      "Confusion matrix data test SVM Tuned\n",
      "\n"
     ]
    },
    {
     "data": {
      "text/html": [
       "<div>\n",
       "<style scoped>\n",
       "    .dataframe tbody tr th:only-of-type {\n",
       "        vertical-align: middle;\n",
       "    }\n",
       "\n",
       "    .dataframe tbody tr th {\n",
       "        vertical-align: top;\n",
       "    }\n",
       "\n",
       "    .dataframe thead th {\n",
       "        text-align: right;\n",
       "    }\n",
       "</style>\n",
       "<table border=\"1\" class=\"dataframe\">\n",
       "  <thead>\n",
       "    <tr style=\"text-align: right;\">\n",
       "      <th></th>\n",
       "      <th>Pred1</th>\n",
       "      <th>Pred0</th>\n",
       "    </tr>\n",
       "  </thead>\n",
       "  <tbody>\n",
       "    <tr>\n",
       "      <th>Akt1</th>\n",
       "      <td>1326</td>\n",
       "      <td>1</td>\n",
       "    </tr>\n",
       "    <tr>\n",
       "      <th>Akt0</th>\n",
       "      <td>4669</td>\n",
       "      <td>4</td>\n",
       "    </tr>\n",
       "  </tbody>\n",
       "</table>\n",
       "</div>"
      ],
      "text/plain": [
       "      Pred1  Pred0\n",
       "Akt1   1326      1\n",
       "Akt0   4669      4"
      ]
     },
     "execution_count": 137,
     "metadata": {},
     "output_type": "execute_result"
    }
   ],
   "source": [
    "conf_mat(SVM_tune, X_train, X_test, y_train, y_test, 'SVM Tuned')"
   ]
  },
  {
   "cell_type": "markdown",
   "metadata": {},
   "source": [
    "__Penjelasan Eva Matrix__ :\n",
    "\n",
    "Dapat dilihat bahwa False Negatif berkurang hingga 0 diiring dengan recall yang naik hingga 1, tetapi False postif kelewat batas jd coba dicari lagi kombinasi yang tepat"
   ]
  },
  {
   "cell_type": "markdown",
   "metadata": {},
   "source": [
    "______________\n",
    "_{'kernel': 'linear', 'gamma': 0.01, 'C': 1}_\n",
    "_____________"
   ]
  },
  {
   "cell_type": "code",
   "execution_count": 148,
   "metadata": {},
   "outputs": [],
   "source": [
    "pipe_SVM_1 = Pipeline([\n",
    "    ('prep', preprocessor),\n",
    "    ('algo', SVC(kernel='poly', gamma=1, C=3) )\n",
    "])"
   ]
  },
  {
   "cell_type": "code",
   "execution_count": null,
   "metadata": {},
   "outputs": [],
   "source": [
    "pipe_SVM_1.fit(X_train, y_train)"
   ]
  },
  {
   "cell_type": "code",
   "execution_count": null,
   "metadata": {},
   "outputs": [],
   "source": [
    "conf_mat(pipe_SVM_1, X_train, X_test, y_train, y_test, 'SVM 1')"
   ]
  },
  {
   "cell_type": "markdown",
   "metadata": {},
   "source": [
    "__Penjelasan Eva Matrix__ :\n",
    "\n",
    "Dapat dilihat bahwa False Negatif sedikit bertambah dengan recall yang berkurang, tetapi False postif jauh berkurang. cukup"
   ]
  },
  {
   "cell_type": "markdown",
   "metadata": {},
   "source": [
    "# Perbandingan dan Export Model"
   ]
  },
  {
   "cell_type": "markdown",
   "metadata": {},
   "source": [
    "Berdasarkan Evaluasi di atas, didapatkan bahwa model yang lebih baik yaitu Model DT_1 (Decision Tree) dengan {'min_samples_leaf': 26, 'max_depth': 85, 'class_weight': {0: 0.1, 1: 0.9}}"
   ]
  },
  {
   "cell_type": "markdown",
   "metadata": {},
   "source": [
    "_______________\n",
    "__Export Model__\n",
    "_______________"
   ]
  },
  {
   "cell_type": "code",
   "execution_count": 166,
   "metadata": {},
   "outputs": [],
   "source": [
    "import joblib"
   ]
  },
  {
   "cell_type": "code",
   "execution_count": 168,
   "metadata": {},
   "outputs": [],
   "source": [
    "# joblib.dump(DT_1, 'DT.jbl')"
   ]
  },
  {
   "cell_type": "markdown",
   "metadata": {},
   "source": [
    "# Kesimpulan dan Saran"
   ]
  },
  {
   "cell_type": "markdown",
   "metadata": {},
   "source": [
    "Berdasarkan Analisa dan pembuatan model diatas dapat disimpulkan bahwa :\n",
    "\n",
    "1. Default Payment dapat dipengaruhi banyak faktor khususnya dipengaruhi oleh lamanya pembayaran (X6, X11) \n",
    "\n",
    "Saran :\n",
    "1. gunakan Model untuk mengetahui Nasabah lain (yang tidak masuk data train ataupun test) untuk memprediksi nilai Default payment (apakah akan susah pembayaran tagihan kredit atau tidak) yang kemudian berguna untuk pengambilan keputusan mengenai kelanjutan kredit nasabah."
   ]
  },
  {
   "cell_type": "code",
   "execution_count": null,
   "metadata": {},
   "outputs": [],
   "source": []
  }
 ],
 "metadata": {
  "kernelspec": {
   "display_name": "Python 3",
   "language": "python",
   "name": "python3"
  },
  "language_info": {
   "codemirror_mode": {
    "name": "ipython",
    "version": 3
   },
   "file_extension": ".py",
   "mimetype": "text/x-python",
   "name": "python",
   "nbconvert_exporter": "python",
   "pygments_lexer": "ipython3",
   "version": "3.8.5"
  }
 },
 "nbformat": 4,
 "nbformat_minor": 4
}
